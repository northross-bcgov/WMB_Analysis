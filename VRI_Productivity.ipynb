{
 "cells": [
  {
   "cell_type": "markdown",
   "metadata": {},
   "source": [
    "<h1>VRI Productivity Analysis - DuckDB</h1>\n",
    "\n",
    "This notebook uses DuckDB and the VRI Parquet file on NRS objectstore to download the VRI, clip to an AOI and preform analysis of site index values. It was created for WMB Planning in the Northeast Region as part of the Blueberry River First Nation Implementation Agreement. Written by North Ross in October 2024.\n",
    "\n",
    "DuckDB is used due to its very fast processing time with large datasets such as the VRI, especially when preforming clips, intersects and spatial joins. The initial idea for this analysis was to combine with the PSPL data. This did not end up being used in the final product, but the PSPL_testing.ipynb noteboook preserves my experimenting with it. DuckDB was very useful for this operation.\n",
    "\n",
    "<a href=\"https://jupysql.ploomber.io/en/latest/api/magic-plot.html\">JupySQL</a> is used to execute the DuckDB SQL and create plots, except in some cases where the duckdb conn.sql() function is used to implement directly in Python (in a loop for example)\n",
    "\n",
    "Further experiments could use <a href=\"https://developmentseed.org/lonboard/latest/\">lonboard</a> with the .from_duckdb() method to try quickly visually inspecting the data.\n",
    "\n",
    "Otherwise, you can export the data to another format or use the <a href=\"https://plugins.qgis.org/plugins/qduckdb/\">QGIS DuckDB extension</a> to plot the data (this works well in this case and is quite fast)"
   ]
  },
  {
   "cell_type": "code",
   "execution_count": null,
   "metadata": {},
   "outputs": [],
   "source": [
    "# install some libraries (if not already installed)\n",
    "%pip install --upgrade duckdb\n",
    "%pip install jupysql\n",
    "%pip install duckdb-engine\n",
    "%pip install matplotlib"
   ]
  },
  {
   "cell_type": "code",
   "execution_count": 1,
   "metadata": {},
   "outputs": [],
   "source": [
    "# load libraries/jupyter extensions\n",
    "import geopandas as gpd\n",
    "import duckdb\n",
    "from shapely.geometry import shape\n",
    "import fiona\n",
    "import os\n",
    "%load_ext sql"
   ]
  },
  {
   "cell_type": "code",
   "execution_count": 14,
   "metadata": {},
   "outputs": [],
   "source": [
    "# sql ggplot\n",
    "from sql.ggplot import ggplot, aes, geom_boxplot, geom_histogram, facet_wrap"
   ]
  },
  {
   "cell_type": "code",
   "execution_count": 2,
   "metadata": {},
   "outputs": [],
   "source": [
    "# Set local variables, paths to AOI, vri, other data.\n",
    "# Note the aflb data is not yet incorporated into the script.\n",
    "\n",
    "# conn = duckdb.connect(database=':memory:')\n",
    "workingdir = r'C:\\Users\\nross\\OneDrive - Government of BC\\Documents\\BRFNDocs\\work-test'\n",
    "db = os.path.join(workingdir,'vri_analysis.db')\n",
    "vri_url = \"https://nrs.objectstore.gov.bc.ca/rczimv/geotest/veg_comp_layer_r1_poly.parquet\"\n",
    "aoi_path = r'\\\\spatialfiles2.bcgov\\work\\FOR\\RNI\\DPC\\General_User_Data\\nross\\BRFN_NE_LUPCE_Analysis\\WMB_Study_Area_2024_07_30\\WMB_Study_Area_2024_07_30.shp'\n",
    "aflb_gdb = r'\\\\spatialfiles2.bcgov\\work\\FOR\\RNI\\DPC\\General_User_Data\\nross\\BRFN_NE_LUPCE_Analysis\\BRFNLupce.gdb'\n",
    "\n",
    "\n",
    "conn = duckdb.connect(database=db)\n",
    "conn.install_extension(\"httpfs\")\n",
    "conn.install_extension(\"spatial\")\n",
    "conn.load_extension(\"httpfs\")\n",
    "conn.load_extension(\"spatial\")\n"
   ]
  },
  {
   "cell_type": "code",
   "execution_count": 6,
   "metadata": {},
   "outputs": [
    {
     "data": {
      "text/html": [
       "<span style=\"None\">Running query in &#x27;duckdb&#x27;</span>"
      ],
      "text/plain": [
       "Running query in 'duckdb'"
      ]
     },
     "metadata": {},
     "output_type": "display_data"
    },
    {
     "data": {
      "text/html": [
       "<table>\n",
       "    <thead>\n",
       "        <tr>\n",
       "            <th>table_catalog</th>\n",
       "            <th>table_schema</th>\n",
       "            <th>table_name</th>\n",
       "            <th>table_type</th>\n",
       "            <th>self_referencing_column_name</th>\n",
       "            <th>reference_generation</th>\n",
       "            <th>user_defined_type_catalog</th>\n",
       "            <th>user_defined_type_schema</th>\n",
       "            <th>user_defined_type_name</th>\n",
       "            <th>is_insertable_into</th>\n",
       "            <th>is_typed</th>\n",
       "            <th>commit_action</th>\n",
       "            <th>TABLE_COMMENT</th>\n",
       "        </tr>\n",
       "    </thead>\n",
       "    <tbody>\n",
       "        <tr>\n",
       "            <td>vri_analysis</td>\n",
       "            <td>main</td>\n",
       "            <td>pspl</td>\n",
       "            <td>BASE TABLE</td>\n",
       "            <td>None</td>\n",
       "            <td>None</td>\n",
       "            <td>None</td>\n",
       "            <td>None</td>\n",
       "            <td>None</td>\n",
       "            <td>YES</td>\n",
       "            <td>NO</td>\n",
       "            <td>None</td>\n",
       "            <td>None</td>\n",
       "        </tr>\n",
       "        <tr>\n",
       "            <td>vri_analysis</td>\n",
       "            <td>main</td>\n",
       "            <td>species</td>\n",
       "            <td>BASE TABLE</td>\n",
       "            <td>None</td>\n",
       "            <td>None</td>\n",
       "            <td>None</td>\n",
       "            <td>None</td>\n",
       "            <td>None</td>\n",
       "            <td>YES</td>\n",
       "            <td>NO</td>\n",
       "            <td>None</td>\n",
       "            <td>None</td>\n",
       "        </tr>\n",
       "        <tr>\n",
       "            <td>vri_analysis</td>\n",
       "            <td>main</td>\n",
       "            <td>vri</td>\n",
       "            <td>BASE TABLE</td>\n",
       "            <td>None</td>\n",
       "            <td>None</td>\n",
       "            <td>None</td>\n",
       "            <td>None</td>\n",
       "            <td>None</td>\n",
       "            <td>YES</td>\n",
       "            <td>NO</td>\n",
       "            <td>None</td>\n",
       "            <td>None</td>\n",
       "        </tr>\n",
       "        <tr>\n",
       "            <td>vri_analysis</td>\n",
       "            <td>main</td>\n",
       "            <td>vri_pspl_species</td>\n",
       "            <td>BASE TABLE</td>\n",
       "            <td>None</td>\n",
       "            <td>None</td>\n",
       "            <td>None</td>\n",
       "            <td>None</td>\n",
       "            <td>None</td>\n",
       "            <td>YES</td>\n",
       "            <td>NO</td>\n",
       "            <td>None</td>\n",
       "            <td>None</td>\n",
       "        </tr>\n",
       "    </tbody>\n",
       "</table>"
      ],
      "text/plain": [
       "+---------------+--------------+------------------+------------+------------------------------+----------------------+---------------------------+--------------------------+------------------------+--------------------+----------+---------------+---------------+\n",
       "| table_catalog | table_schema |    table_name    | table_type | self_referencing_column_name | reference_generation | user_defined_type_catalog | user_defined_type_schema | user_defined_type_name | is_insertable_into | is_typed | commit_action | TABLE_COMMENT |\n",
       "+---------------+--------------+------------------+------------+------------------------------+----------------------+---------------------------+--------------------------+------------------------+--------------------+----------+---------------+---------------+\n",
       "|  vri_analysis |     main     |       pspl       | BASE TABLE |             None             |         None         |            None           |           None           |          None          |        YES         |    NO    |      None     |      None     |\n",
       "|  vri_analysis |     main     |     species      | BASE TABLE |             None             |         None         |            None           |           None           |          None          |        YES         |    NO    |      None     |      None     |\n",
       "|  vri_analysis |     main     |       vri        | BASE TABLE |             None             |         None         |            None           |           None           |          None          |        YES         |    NO    |      None     |      None     |\n",
       "|  vri_analysis |     main     | vri_pspl_species | BASE TABLE |             None             |         None         |            None           |           None           |          None          |        YES         |    NO    |      None     |      None     |\n",
       "+---------------+--------------+------------------+------------+------------------------------+----------------------+---------------------------+--------------------------+------------------------+--------------------+----------+---------------+---------------+"
      ]
     },
     "execution_count": 6,
     "metadata": {},
     "output_type": "execute_result"
    }
   ],
   "source": [
    "# Setup sql magic and show current tables\n",
    "%sql conn --alias duckdb\n",
    "%sql select * from information_schema.tables"
   ]
  },
  {
   "cell_type": "code",
   "execution_count": 31,
   "metadata": {},
   "outputs": [
    {
     "name": "stdout",
     "output_type": "stream",
     "text": [
      "2179741.04\n"
     ]
    }
   ],
   "source": [
    "# read AOI as shapely geom\n",
    "with fiona.open(aoi_path) as shapefile:\n",
    "    aoi = shape(shapefile[0]['geometry'])\n",
    "    aoi_area_ha = aoi.area/10000\n",
    "    print(round(aoi_area_ha, 2))\n"
   ]
  },
  {
   "cell_type": "markdown",
   "metadata": {},
   "source": [
    "<h1>Download VRI</h1>\n",
    "\n",
    "The next section downloads the relevant 2023 VRI R1 data by querying a parquet object in the nrs object storage, then clips it to our AOI."
   ]
  },
  {
   "cell_type": "code",
   "execution_count": 103,
   "metadata": {},
   "outputs": [
    {
     "data": {
      "text/html": [
       "<span style=\"None\">Running query in &#x27;duckdb&#x27;</span>"
      ],
      "text/plain": [
       "Running query in 'duckdb'"
      ]
     },
     "metadata": {},
     "output_type": "display_data"
    },
    {
     "data": {
      "text/html": [
       "<table>\n",
       "    <thead>\n",
       "        <tr>\n",
       "            <th>Count</th>\n",
       "        </tr>\n",
       "    </thead>\n",
       "    <tbody>\n",
       "        <tr>\n",
       "            <td>188049</td>\n",
       "        </tr>\n",
       "    </tbody>\n",
       "</table>"
      ],
      "text/plain": [
       "+--------+\n",
       "| Count  |\n",
       "+--------+\n",
       "| 188049 |\n",
       "+--------+"
      ]
     },
     "execution_count": 103,
     "metadata": {},
     "output_type": "execute_result"
    }
   ],
   "source": [
    "%%sql\n",
    "# create vri table\n",
    "DROP TABLE IF EXISTS vri;\n",
    "\n",
    "CREATE TABLE vri as (\n",
    "    select Shape as geom, OBJECTID, BCLCS_LEVEL_2, BEC_ZONE_CODE,\n",
    "      SPECIES_CD_1, SPECIES_PCT_1, SPECIES_CD_2, SPECIES_PCT_2, SPECIES_CD_3, SPECIES_PCT_3,\n",
    "      SPECIES_CD_4, SPECIES_PCT_4, SPECIES_CD_5, SPECIES_PCT_5, SPECIES_CD_6, SPECIES_PCT_6,\n",
    "      PROJ_AGE_CLASS_CD_1, SITE_INDEX, POLYGON_AREA\n",
    "    from '{{vri_url}}' -- read parquet file from objectstorage\n",
    "    where ST_Intersects (geom, ST_GeomFromText('{{aoi}}'))\n",
    ");"
   ]
  },
  {
   "cell_type": "code",
   "execution_count": 104,
   "metadata": {},
   "outputs": [
    {
     "data": {
      "text/html": [
       "<span style=\"None\">Running query in &#x27;duckdb&#x27;</span>"
      ],
      "text/plain": [
       "Running query in 'duckdb'"
      ]
     },
     "metadata": {},
     "output_type": "display_data"
    },
    {
     "data": {
      "text/html": [
       "<table>\n",
       "    <thead>\n",
       "        <tr>\n",
       "            <th>Count</th>\n",
       "        </tr>\n",
       "    </thead>\n",
       "    <tbody>\n",
       "        <tr>\n",
       "            <td>188049</td>\n",
       "        </tr>\n",
       "    </tbody>\n",
       "</table>"
      ],
      "text/plain": [
       "+--------+\n",
       "| Count  |\n",
       "+--------+\n",
       "| 188049 |\n",
       "+--------+"
      ]
     },
     "execution_count": 104,
     "metadata": {},
     "output_type": "execute_result"
    }
   ],
   "source": [
    "%%sql\n",
    "# Clip VRI to AOI\n",
    "UPDATE vri\n",
    "SET geom = (\n",
    "    SELECT\n",
    "        CASE WHEN ST_Intersects(geom, ST_Boundary(ST_GeomFromText('{{aoi}}')))\n",
    "                THEN ST_Intersection(geom, ST_GeomFromText('{{aoi}}'))\n",
    "                ELSE geom END\n",
    "    from vri v\n",
    "    WHERE vri.OBJECTID = v.OBJECTID\n",
    "    );\n",
    "\n",
    "UPDATE vri\n",
    "set POLYGON_AREA = ST_Area(geom)/10000;"
   ]
  },
  {
   "cell_type": "code",
   "execution_count": 105,
   "metadata": {},
   "outputs": [
    {
     "data": {
      "text/html": [
       "<span style=\"None\">Running query in &#x27;duckdb&#x27;</span>"
      ],
      "text/plain": [
       "Running query in 'duckdb'"
      ]
     },
     "metadata": {},
     "output_type": "display_data"
    },
    {
     "data": {
      "text/html": [
       "<table>\n",
       "    <thead>\n",
       "        <tr>\n",
       "            <th>VRIAreaHa</th>\n",
       "            <th>AOIAreaHa</th>\n",
       "        </tr>\n",
       "    </thead>\n",
       "    <tbody>\n",
       "        <tr>\n",
       "            <td>2,179,740.98</td>\n",
       "            <td>2,179,741.04</td>\n",
       "        </tr>\n",
       "    </tbody>\n",
       "</table>"
      ],
      "text/plain": [
       "+--------------+--------------+\n",
       "|  VRIAreaHa   |  AOIAreaHa   |\n",
       "+--------------+--------------+\n",
       "| 2,179,740.98 | 2,179,741.04 |\n",
       "+--------------+--------------+"
      ]
     },
     "execution_count": 105,
     "metadata": {},
     "output_type": "execute_result"
    }
   ],
   "source": [
    "# check if VRI area roughly matches AOI input. \n",
    "%sql select FORMAT('{:t,.2f}', sum(polygon_area)) AS VRIAreaHa, FORMAT('{:t,.2f}', {{aoi_area_ha}}) as AOIAreaHa from vri"
   ]
  },
  {
   "cell_type": "markdown",
   "metadata": {},
   "source": [
    "<h2>Deciduous Percent</h2>\n",
    "\n",
    "Calculate Deciduous Percent and Stand Type. We use 25% cutoff.\n",
    "\n",
    "The <a>VRI Data Dictionary</a> lists tree species codes under the entry for SPECIES_CD_1. All \"hardwood species\" codes were put into deciduousList, although most do not occur in our study area (especially as leading species). We only use the first letter to catch entries which only look at first letter (e.g. undifferentiated poplar = 'A')\n",
    "\n"
   ]
  },
  {
   "cell_type": "code",
   "execution_count": 110,
   "metadata": {},
   "outputs": [],
   "source": [
    "# Create deciduous % column\n",
    "deciduousList = ['A', 'D', 'E', 'G', 'K', 'M', 'Q', 'R', 'U', 'V', 'W']\n",
    "deciduousListStr = (\"(\\'\" + \"\\', \\'\".join(deciduousList) + \"\\')\")\n",
    "\n",
    "# create column if not exist\n",
    "result = conn.execute(f\"\"\"\n",
    "  SELECT COUNT(*) AS column_exists\n",
    "  FROM information_schema.columns\n",
    "  WHERE table_name = 'vri' AND column_name = 'DECID_PCT';\n",
    "\"\"\").fetchone()\n",
    "if result[0] == 0:\n",
    "  conn.execute(f\"ALTER TABLE vri ADD COLUMN DECID_PCT DOUBLE;\")\n",
    "  \n",
    "# create column if not exist\n",
    "result = conn.execute(f\"\"\"\n",
    "  SELECT COUNT(*) AS column_exists\n",
    "  FROM information_schema.columns\n",
    "  WHERE table_name = 'vri' AND column_name = 'STAND_TYPE_25';\n",
    "\"\"\").fetchone()\n",
    "if result[0] == 0:\n",
    "  conn.execute(f\"ALTER TABLE vri ADD COLUMN STAND_TYPE_25 VARCHAR;\")"
   ]
  },
  {
   "cell_type": "code",
   "execution_count": 111,
   "metadata": {},
   "outputs": [
    {
     "data": {
      "text/html": [
       "<span style=\"None\">Running query in &#x27;duckdb&#x27;</span>"
      ],
      "text/plain": [
       "Running query in 'duckdb'"
      ]
     },
     "metadata": {},
     "output_type": "display_data"
    },
    {
     "data": {
      "text/html": [
       "<table>\n",
       "    <thead>\n",
       "        <tr>\n",
       "            <th>Count</th>\n",
       "        </tr>\n",
       "    </thead>\n",
       "    <tbody>\n",
       "        <tr>\n",
       "            <td>188049</td>\n",
       "        </tr>\n",
       "    </tbody>\n",
       "</table>"
      ],
      "text/plain": [
       "+--------+\n",
       "| Count  |\n",
       "+--------+\n",
       "| 188049 |\n",
       "+--------+"
      ]
     },
     "execution_count": 111,
     "metadata": {},
     "output_type": "execute_result"
    }
   ],
   "source": [
    "%%sql\n",
    "\n",
    "# For each of the six species codes, if the first letter is in our list of deciduous species, add it to our DECID_PCT column. Else add zero.\n",
    "UPDATE vri\n",
    "SET DECID_PCT = (\n",
    "  CASE WHEN SPECIES_CD_1[:1] IN {{deciduousListStr}} THEN SPECIES_PCT_1 ELSE 0 END +\n",
    "  CASE WHEN SPECIES_CD_2[:1] IN {{deciduousListStr}} THEN SPECIES_PCT_2 ELSE 0 END +\n",
    "  CASE WHEN SPECIES_CD_3[:1] IN {{deciduousListStr}} THEN SPECIES_PCT_3 ELSE 0 END +\n",
    "  CASE WHEN SPECIES_CD_4[:1] IN {{deciduousListStr}} THEN SPECIES_PCT_4 ELSE 0 END +\n",
    "  CASE WHEN SPECIES_CD_5[:1] IN {{deciduousListStr}} THEN SPECIES_PCT_5 ELSE 0 END +\n",
    "  CASE WHEN SPECIES_CD_6[:1] IN {{deciduousListStr}} THEN SPECIES_PCT_6 ELSE 0 END\n",
    ");\n",
    "\n",
    "# If no leading species is listed (SPECIES_CD_1 = NULL), set DECID_PCT to NULL.\n",
    "UPDATE vri\n",
    "SET DECID_PCT = (\n",
    "  CASE WHEN SPECIES_CD_1 IS NULL THEN NULL ELSE DECID_PCT END\n",
    ");\n",
    "\n",
    "# Use 25% cutoffs to assign a stand type. If DECID_PCT is NULL then set this to NULL.\n",
    "UPDATE vri\n",
    "SET STAND_TYPE_25 = (\n",
    "  CASE WHEN DECID_PCT <= 25 THEN 'Coniferous' ELSE \n",
    "    CASE WHEN DECID_PCT >= 75 THEN 'Deciduous' ELSE \n",
    "      CASE WHEN DECID_PCT IS NOT NULL THEN 'Mixed' ELSE NULL END\n",
    "    END\n",
    "  END\n",
    ");"
   ]
  },
  {
   "cell_type": "code",
   "execution_count": 72,
   "metadata": {},
   "outputs": [
    {
     "data": {
      "text/html": [
       "<span style=\"None\">Running query in &#x27;duckdb&#x27;</span>"
      ],
      "text/plain": [
       "Running query in 'duckdb'"
      ]
     },
     "metadata": {},
     "output_type": "display_data"
    },
    {
     "data": {
      "text/html": [
       "<table>\n",
       "    <thead>\n",
       "        <tr>\n",
       "            <th>count(SITE_INDEX)</th>\n",
       "            <th>sum(POLYGON_AREA)</th>\n",
       "            <th>avg(SITE_INDEX)</th>\n",
       "        </tr>\n",
       "    </thead>\n",
       "    <tbody>\n",
       "        <tr>\n",
       "            <td>230</td>\n",
       "            <td>3017.180842383417</td>\n",
       "            <td>15.560869565217391</td>\n",
       "        </tr>\n",
       "    </tbody>\n",
       "</table>"
      ],
      "text/plain": [
       "+-------------------+-------------------+--------------------+\n",
       "| count(SITE_INDEX) | sum(POLYGON_AREA) |  avg(SITE_INDEX)   |\n",
       "+-------------------+-------------------+--------------------+\n",
       "|        230        | 3017.180842383417 | 15.560869565217391 |\n",
       "+-------------------+-------------------+--------------------+"
      ]
     },
     "execution_count": 72,
     "metadata": {},
     "output_type": "execute_result"
    }
   ],
   "source": [
    "# Weirdly there are some polygons that have a site index but no listed leading species...\n",
    "%sql select count(SITE_INDEX), sum(POLYGON_AREA), avg(SITE_INDEX) from vri where SPECIES_CD_1 is null and SITE_INDEX is not null"
   ]
  },
  {
   "cell_type": "code",
   "execution_count": 98,
   "metadata": {},
   "outputs": [
    {
     "data": {
      "text/plain": [
       "<sql.ggplot.ggplot.ggplot at 0x1f8b31b6ad0>"
      ]
     },
     "execution_count": 98,
     "metadata": {},
     "output_type": "execute_result"
    },
    {
     "data": {
      "image/png": "[encoded data removed]",
      "text/plain": [
       "<Figure size 640x480 with 1 Axes>"
      ]
     },
     "metadata": {},
     "output_type": "display_data"
    }
   ],
   "source": [
    "# Take a look at the output\n",
    "# Note that sql.ggplot() doesn't support the 'weights' argument so we can't weight the polygons by area. So this is just looking at the number of polygons with x site index. \n",
    "# We could group these into bins and then do a bar chart but this would take time to both code and process. So it's faster to just do it in R.\n",
    "# This is slightly different from the actual area. See the R script for proper charts.\n",
    "(ggplot(\"vri\", aes(x=\"SITE_INDEX\")) + geom_histogram(bins=30, fill=\"STAND_TYPE_25\", cmap='viridis_r'))"
   ]
  },
  {
   "cell_type": "markdown",
   "metadata": {},
   "source": [
    "<h2>Productivity Bins</h2>\n",
    "\n",
    "The above data was loaded into R to inspect the distribution of site index within each stand type by leading species. See 'SiteIndexAnalysis.R' and the discussion paper.\n",
    "\n",
    "It was determined to use the following categories for our productivity bins:\n",
    "\n",
    "<b>Coniferous</b>: <= 10 is Low, >= 18 is High\n",
    "\n",
    "<b>Deciduous</b>: <= 12 is Low, >= 20 is High\n",
    "\n",
    "<b>Mixed</b>: <= 10 is low, >= 20 is High"
   ]
  },
  {
   "cell_type": "code",
   "execution_count": 8,
   "metadata": {},
   "outputs": [
    {
     "data": {
      "text/html": [
       "<span style=\"None\">Running query in &#x27;duckdb&#x27;</span>"
      ],
      "text/plain": [
       "Running query in 'duckdb'"
      ]
     },
     "metadata": {},
     "output_type": "display_data"
    },
    {
     "data": {
      "text/html": [
       "<table>\n",
       "    <thead>\n",
       "        <tr>\n",
       "            <th>Success</th>\n",
       "        </tr>\n",
       "    </thead>\n",
       "    <tbody>\n",
       "    </tbody>\n",
       "</table>"
      ],
      "text/plain": [
       "+---------+\n",
       "| Success |\n",
       "+---------+\n",
       "+---------+"
      ]
     },
     "execution_count": 8,
     "metadata": {},
     "output_type": "execute_result"
    }
   ],
   "source": [
    "%%sql\n",
    "ALTER TABLE vri\n",
    "ADD COLUMN prod_bin VARCHAR;"
   ]
  },
  {
   "cell_type": "code",
   "execution_count": 9,
   "metadata": {},
   "outputs": [
    {
     "data": {
      "text/html": [
       "<span style=\"None\">Running query in &#x27;duckdb&#x27;</span>"
      ],
      "text/plain": [
       "Running query in 'duckdb'"
      ]
     },
     "metadata": {},
     "output_type": "display_data"
    },
    {
     "data": {
      "text/html": [
       "<table>\n",
       "    <thead>\n",
       "        <tr>\n",
       "            <th>Count</th>\n",
       "        </tr>\n",
       "    </thead>\n",
       "    <tbody>\n",
       "        <tr>\n",
       "            <td>188049</td>\n",
       "        </tr>\n",
       "    </tbody>\n",
       "</table>"
      ],
      "text/plain": [
       "+--------+\n",
       "| Count  |\n",
       "+--------+\n",
       "| 188049 |\n",
       "+--------+"
      ]
     },
     "execution_count": 9,
     "metadata": {},
     "output_type": "execute_result"
    }
   ],
   "source": [
    "%%sql\n",
    "# Sort into productivity bins\n",
    "\n",
    "UPDATE vri\n",
    "SET prod_bin = \n",
    "IF (\n",
    "    STAND_TYPE_25 = 'Coniferous',\n",
    "    IF (\n",
    "        SITE_INDEX <= 10,\n",
    "        'Low',\n",
    "        IF (\n",
    "            SITE_INDEX >= 18,\n",
    "            'High',\n",
    "            IF (SITE_INDEX IS NOT NULL, 'Medium', NULL)\n",
    "            )\n",
    "        ),\n",
    "    IF (STAND_TYPE_25 = 'Deciduous',\n",
    "        IF (\n",
    "            SITE_INDEX <= 12,\n",
    "            'Low',\n",
    "            IF (\n",
    "                SITE_INDEX >= 20,\n",
    "                'High',\n",
    "                IF (SITE_INDEX IS NOT NULL, 'Medium', NULL)\n",
    "                )\n",
    "            ),\n",
    "        IF (STAND_TYPE_25 = 'Mixed',\n",
    "            IF (\n",
    "                SITE_INDEX <= 10,\n",
    "                'Low',\n",
    "                IF (\n",
    "                    SITE_INDEX >= 20,\n",
    "                    'High',\n",
    "                    IF (SITE_INDEX IS NOT NULL, 'Medium', NULL)\n",
    "                    )\n",
    "                ),\n",
    "            NULL\n",
    "        )\n",
    "    )\n",
    ")\n"
   ]
  },
  {
   "cell_type": "code",
   "execution_count": 11,
   "metadata": {},
   "outputs": [],
   "source": [
    "%config SqlMagic.displaylimit = 30"
   ]
  },
  {
   "cell_type": "code",
   "execution_count": 12,
   "metadata": {},
   "outputs": [
    {
     "data": {
      "text/html": [
       "<span style=\"None\">Running query in &#x27;duckdb&#x27;</span>"
      ],
      "text/plain": [
       "Running query in 'duckdb'"
      ]
     },
     "metadata": {},
     "output_type": "display_data"
    },
    {
     "data": {
      "text/html": [
       "<table>\n",
       "    <thead>\n",
       "        <tr>\n",
       "            <th>Stand Composition</th>\n",
       "            <th>Productivity Class</th>\n",
       "            <th>Mean Site Index</th>\n",
       "            <th>Total Area (ha)</th>\n",
       "            <th>% of Stand Type Area</th>\n",
       "            <th>% of Study Area</th>\n",
       "        </tr>\n",
       "    </thead>\n",
       "    <tbody>\n",
       "        <tr>\n",
       "            <td>Coniferous</td>\n",
       "            <td>Low</td>\n",
       "            <td>6.5</td>\n",
       "            <td>880,961</td>\n",
       "            <td>64.2</td>\n",
       "            <td>40.4</td>\n",
       "        </tr>\n",
       "        <tr>\n",
       "            <td>Coniferous</td>\n",
       "            <td>Medium</td>\n",
       "            <td>13.5</td>\n",
       "            <td>406,480</td>\n",
       "            <td>29.6</td>\n",
       "            <td>18.6</td>\n",
       "        </tr>\n",
       "        <tr>\n",
       "            <td>Coniferous</td>\n",
       "            <td>High</td>\n",
       "            <td>20.4</td>\n",
       "            <td>80,715</td>\n",
       "            <td>5.9</td>\n",
       "            <td>3.7</td>\n",
       "        </tr>\n",
       "        <tr>\n",
       "            <td>Coniferous</td>\n",
       "            <td>None</td>\n",
       "            <td>None</td>\n",
       "            <td>3,648</td>\n",
       "            <td>0.3</td>\n",
       "            <td>0.2</td>\n",
       "        </tr>\n",
       "        <tr>\n",
       "            <td>Deciduous</td>\n",
       "            <td>Low</td>\n",
       "            <td>10.2</td>\n",
       "            <td>33,720</td>\n",
       "            <td>8.6</td>\n",
       "            <td>1.5</td>\n",
       "        </tr>\n",
       "        <tr>\n",
       "            <td>Deciduous</td>\n",
       "            <td>Medium</td>\n",
       "            <td>16.2</td>\n",
       "            <td>327,416</td>\n",
       "            <td>83.7</td>\n",
       "            <td>15.0</td>\n",
       "        </tr>\n",
       "        <tr>\n",
       "            <td>Deciduous</td>\n",
       "            <td>High</td>\n",
       "            <td>21.6</td>\n",
       "            <td>29,997</td>\n",
       "            <td>7.7</td>\n",
       "            <td>1.4</td>\n",
       "        </tr>\n",
       "        <tr>\n",
       "            <td>Deciduous</td>\n",
       "            <td>None</td>\n",
       "            <td>None</td>\n",
       "            <td>106</td>\n",
       "            <td>0.0</td>\n",
       "            <td>0.0</td>\n",
       "        </tr>\n",
       "        <tr>\n",
       "            <td>Mixed</td>\n",
       "            <td>Low</td>\n",
       "            <td>7.8</td>\n",
       "            <td>36,563</td>\n",
       "            <td>12.8</td>\n",
       "            <td>1.7</td>\n",
       "        </tr>\n",
       "        <tr>\n",
       "            <td>Mixed</td>\n",
       "            <td>Medium</td>\n",
       "            <td>15.1</td>\n",
       "            <td>223,044</td>\n",
       "            <td>78.0</td>\n",
       "            <td>10.2</td>\n",
       "        </tr>\n",
       "        <tr>\n",
       "            <td>Mixed</td>\n",
       "            <td>High</td>\n",
       "            <td>21.9</td>\n",
       "            <td>26,253</td>\n",
       "            <td>9.2</td>\n",
       "            <td>1.2</td>\n",
       "        </tr>\n",
       "        <tr>\n",
       "            <td>Mixed</td>\n",
       "            <td>None</td>\n",
       "            <td>None</td>\n",
       "            <td>53</td>\n",
       "            <td>0.0</td>\n",
       "            <td>0.0</td>\n",
       "        </tr>\n",
       "        <tr>\n",
       "            <td>None</td>\n",
       "            <td>None</td>\n",
       "            <td>15.6</td>\n",
       "            <td>130,785</td>\n",
       "            <td>100.0</td>\n",
       "            <td>6.0</td>\n",
       "        </tr>\n",
       "    </tbody>\n",
       "</table>"
      ],
      "text/plain": [
       "+-------------------+--------------------+-----------------+-----------------+----------------------+-----------------+\n",
       "| Stand Composition | Productivity Class | Mean Site Index | Total Area (ha) | % of Stand Type Area | % of Study Area |\n",
       "+-------------------+--------------------+-----------------+-----------------+----------------------+-----------------+\n",
       "|     Coniferous    |        Low         |       6.5       |     880,961     |         64.2         |       40.4      |\n",
       "|     Coniferous    |       Medium       |       13.5      |     406,480     |         29.6         |       18.6      |\n",
       "|     Coniferous    |        High        |       20.4      |      80,715     |         5.9          |       3.7       |\n",
       "|     Coniferous    |        None        |       None      |      3,648      |         0.3          |       0.2       |\n",
       "|     Deciduous     |        Low         |       10.2      |      33,720     |         8.6          |       1.5       |\n",
       "|     Deciduous     |       Medium       |       16.2      |     327,416     |         83.7         |       15.0      |\n",
       "|     Deciduous     |        High        |       21.6      |      29,997     |         7.7          |       1.4       |\n",
       "|     Deciduous     |        None        |       None      |       106       |         0.0          |       0.0       |\n",
       "|       Mixed       |        Low         |       7.8       |      36,563     |         12.8         |       1.7       |\n",
       "|       Mixed       |       Medium       |       15.1      |     223,044     |         78.0         |       10.2      |\n",
       "|       Mixed       |        High        |       21.9      |      26,253     |         9.2          |       1.2       |\n",
       "|       Mixed       |        None        |       None      |        53       |         0.0          |       0.0       |\n",
       "|        None       |        None        |       15.6      |     130,785     |        100.0         |       6.0       |\n",
       "+-------------------+--------------------+-----------------+-----------------+----------------------+-----------------+"
      ]
     },
     "execution_count": 12,
     "metadata": {},
     "output_type": "execute_result"
    }
   ],
   "source": [
    "%%sql \n",
    "# Examine distribution of outputs.\n",
    "SELECT \n",
    "    STAND_TYPE_25 as \"Stand Composition\", \n",
    "    prod_bin as \"Productivity Class\", \n",
    "    ROUND(AVG(SITE_INDEX), 1) as \"Mean Site Index\", \n",
    "    FORMAT('{:t,.0f}', SUM(POLYGON_AREA)) AS \"Total Area (ha)\",\n",
    "    ROUND(SUM(POLYGON_AREA) * 100.0 / SUM(SUM(POLYGON_AREA)) OVER (PARTITION BY STAND_TYPE_25), 1) AS \"% of Stand Type Area\",\n",
    "    ROUND(SUM(POLYGON_AREA) * 100.0 / SUM(SUM(POLYGON_AREA)) OVER (), 1) AS \"% of Study Area\"\n",
    "    \n",
    "\n",
    "from vri \n",
    "    GROUP BY STAND_TYPE_25, prod_bin\n",
    "    ORDER BY STAND_TYPE_25, \"Mean Site Index\", \"Total Area (ha)\""
   ]
  },
  {
   "cell_type": "code",
   "execution_count": 15,
   "metadata": {},
   "outputs": [
    {
     "data": {
      "text/plain": [
       "<sql.ggplot.ggplot.ggplot at 0x1f08ba9e350>"
      ]
     },
     "execution_count": 15,
     "metadata": {},
     "output_type": "execute_result"
    },
    {
     "data": {
      "image/png": "[encoded data removed]",
      "text/plain": [
       "<Figure size 640x480 with 1 Axes>"
      ]
     },
     "metadata": {},
     "output_type": "display_data"
    }
   ],
   "source": [
    "(ggplot(\"vri\", aes(x=\"SITE_INDEX\")) + geom_histogram(bins=30, fill=\"CONCAT(prod_bin, STAND_TYPE_25)\", cmap='viridis_r'))\n",
    "# same disclaimer as above - this shows polygon count not area."
   ]
  },
  {
   "cell_type": "code",
   "execution_count": 16,
   "metadata": {},
   "outputs": [],
   "source": [
    "conn.close()"
   ]
  }
 ],
 "metadata": {
  "kernelspec": {
   "display_name": "base",
   "language": "python",
   "name": "python3"
  },
  "language_info": {
   "codemirror_mode": {
    "name": "ipython",
    "version": 3
   },
   "file_extension": ".py",
   "mimetype": "text/x-python",
   "name": "python",
   "nbconvert_exporter": "python",
   "pygments_lexer": "ipython3",
   "version": "3.11.7"
  }
 },
 "nbformat": 4,
 "nbformat_minor": 2
}
