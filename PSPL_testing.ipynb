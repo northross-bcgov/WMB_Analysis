{
 "cells": [
  {
   "cell_type": "code",
   "execution_count": 4,
   "metadata": {},
   "outputs": [
    {
     "name": "stdout",
     "output_type": "stream",
     "text": [
      "The sql extension is already loaded. To reload it, use:\n",
      "  %reload_ext sql\n"
     ]
    }
   ],
   "source": [
    "import duckdb\n",
    "import time\n",
    "import os\n",
    "import fiona\n",
    "from shapely.geometry import shape\n",
    "import requests, io\n",
    "import pandas as pd\n",
    "from zipfile import ZipFile\n",
    "import geopandas as gpd\n",
    "%load_ext sql"
   ]
  },
  {
   "cell_type": "code",
   "execution_count": 84,
   "metadata": {},
   "outputs": [],
   "source": [
    "# sql ggplot\n",
    "from sql.ggplot import ggplot, aes, geom_boxplot, geom_histogram, facet_wrap"
   ]
  },
  {
   "cell_type": "code",
   "execution_count": 90,
   "metadata": {},
   "outputs": [],
   "source": [
    "# conn = duckdb.connect(database=':memory:')\n",
    "tempdir = r'C:\\Users\\nross\\OneDrive - Government of BC\\Documents\\BRFNDocs\\work-test'\n",
    "db = os.path.join(tempdir,'vri_analysis.db')\n",
    "sql_ducdb = 'duckdb://'\n",
    "conn = duckdb.connect(database=db)\n",
    "conn.install_extension(\"httpfs\")\n",
    "conn.install_extension(\"spatial\")\n",
    "conn.load_extension(\"httpfs\")\n",
    "conn.load_extension(\"spatial\")\n",
    "vri_url = \"https://nrs.objectstore.gov.bc.ca/rczimv/geotest/veg_comp_layer_r1_poly.parquet\"\n",
    "aoi_path = r'\\\\spatialfiles2.bcgov\\work\\FOR\\RNI\\DPC\\General_User_Data\\nross\\BRFN_NE_LUPCE_Analysis\\WMB_Study_Area_2024_07_30\\WMB_Study_Area_2024_07_30.shp'\n",
    "aflb_gdb = r'\\\\spatialfiles2.bcgov\\work\\FOR\\RNI\\DPC\\General_User_Data\\nross\\BRFN_NE_LUPCE_Analysis\\BRFNLupce.gdb'"
   ]
  },
  {
   "cell_type": "code",
   "execution_count": 91,
   "metadata": {},
   "outputs": [
    {
     "data": {
      "text/html": [
       "<span style=\"None\">Running query in &#x27;duckdb&#x27;</span>"
      ],
      "text/plain": [
       "Running query in 'duckdb'"
      ]
     },
     "metadata": {},
     "output_type": "display_data"
    },
    {
     "data": {
      "text/html": [
       "<table>\n",
       "    <thead>\n",
       "        <tr>\n",
       "            <th>table_catalog</th>\n",
       "            <th>table_schema</th>\n",
       "            <th>table_name</th>\n",
       "            <th>table_type</th>\n",
       "            <th>self_referencing_column_name</th>\n",
       "            <th>reference_generation</th>\n",
       "            <th>user_defined_type_catalog</th>\n",
       "            <th>user_defined_type_schema</th>\n",
       "            <th>user_defined_type_name</th>\n",
       "            <th>is_insertable_into</th>\n",
       "            <th>is_typed</th>\n",
       "            <th>commit_action</th>\n",
       "            <th>TABLE_COMMENT</th>\n",
       "        </tr>\n",
       "    </thead>\n",
       "    <tbody>\n",
       "        <tr>\n",
       "            <td>vri_analysis</td>\n",
       "            <td>main</td>\n",
       "            <td>aflb</td>\n",
       "            <td>BASE TABLE</td>\n",
       "            <td>None</td>\n",
       "            <td>None</td>\n",
       "            <td>None</td>\n",
       "            <td>None</td>\n",
       "            <td>None</td>\n",
       "            <td>YES</td>\n",
       "            <td>NO</td>\n",
       "            <td>None</td>\n",
       "            <td>None</td>\n",
       "        </tr>\n",
       "        <tr>\n",
       "            <td>vri_analysis</td>\n",
       "            <td>main</td>\n",
       "            <td>midaspen</td>\n",
       "            <td>BASE TABLE</td>\n",
       "            <td>None</td>\n",
       "            <td>None</td>\n",
       "            <td>None</td>\n",
       "            <td>None</td>\n",
       "            <td>None</td>\n",
       "            <td>YES</td>\n",
       "            <td>NO</td>\n",
       "            <td>None</td>\n",
       "            <td>None</td>\n",
       "        </tr>\n",
       "        <tr>\n",
       "            <td>vri_analysis</td>\n",
       "            <td>main</td>\n",
       "            <td>pspl</td>\n",
       "            <td>BASE TABLE</td>\n",
       "            <td>None</td>\n",
       "            <td>None</td>\n",
       "            <td>None</td>\n",
       "            <td>None</td>\n",
       "            <td>None</td>\n",
       "            <td>YES</td>\n",
       "            <td>NO</td>\n",
       "            <td>None</td>\n",
       "            <td>None</td>\n",
       "        </tr>\n",
       "        <tr>\n",
       "            <td>vri_analysis</td>\n",
       "            <td>main</td>\n",
       "            <td>rplots</td>\n",
       "            <td>BASE TABLE</td>\n",
       "            <td>None</td>\n",
       "            <td>None</td>\n",
       "            <td>None</td>\n",
       "            <td>None</td>\n",
       "            <td>None</td>\n",
       "            <td>YES</td>\n",
       "            <td>NO</td>\n",
       "            <td>None</td>\n",
       "            <td>None</td>\n",
       "        </tr>\n",
       "        <tr>\n",
       "            <td>vri_analysis</td>\n",
       "            <td>main</td>\n",
       "            <td>species</td>\n",
       "            <td>BASE TABLE</td>\n",
       "            <td>None</td>\n",
       "            <td>None</td>\n",
       "            <td>None</td>\n",
       "            <td>None</td>\n",
       "            <td>None</td>\n",
       "            <td>YES</td>\n",
       "            <td>NO</td>\n",
       "            <td>None</td>\n",
       "            <td>None</td>\n",
       "        </tr>\n",
       "        <tr>\n",
       "            <td>vri_analysis</td>\n",
       "            <td>main</td>\n",
       "            <td>vri</td>\n",
       "            <td>BASE TABLE</td>\n",
       "            <td>None</td>\n",
       "            <td>None</td>\n",
       "            <td>None</td>\n",
       "            <td>None</td>\n",
       "            <td>None</td>\n",
       "            <td>YES</td>\n",
       "            <td>NO</td>\n",
       "            <td>None</td>\n",
       "            <td>None</td>\n",
       "        </tr>\n",
       "        <tr>\n",
       "            <td>vri_analysis</td>\n",
       "            <td>main</td>\n",
       "            <td>vri_pspl_species</td>\n",
       "            <td>BASE TABLE</td>\n",
       "            <td>None</td>\n",
       "            <td>None</td>\n",
       "            <td>None</td>\n",
       "            <td>None</td>\n",
       "            <td>None</td>\n",
       "            <td>YES</td>\n",
       "            <td>NO</td>\n",
       "            <td>None</td>\n",
       "            <td>None</td>\n",
       "        </tr>\n",
       "    </tbody>\n",
       "</table>"
      ],
      "text/plain": [
       "+---------------+--------------+------------------+------------+------------------------------+----------------------+---------------------------+--------------------------+------------------------+--------------------+----------+---------------+---------------+\n",
       "| table_catalog | table_schema |    table_name    | table_type | self_referencing_column_name | reference_generation | user_defined_type_catalog | user_defined_type_schema | user_defined_type_name | is_insertable_into | is_typed | commit_action | TABLE_COMMENT |\n",
       "+---------------+--------------+------------------+------------+------------------------------+----------------------+---------------------------+--------------------------+------------------------+--------------------+----------+---------------+---------------+\n",
       "|  vri_analysis |     main     |       aflb       | BASE TABLE |             None             |         None         |            None           |           None           |          None          |        YES         |    NO    |      None     |      None     |\n",
       "|  vri_analysis |     main     |     midaspen     | BASE TABLE |             None             |         None         |            None           |           None           |          None          |        YES         |    NO    |      None     |      None     |\n",
       "|  vri_analysis |     main     |       pspl       | BASE TABLE |             None             |         None         |            None           |           None           |          None          |        YES         |    NO    |      None     |      None     |\n",
       "|  vri_analysis |     main     |      rplots      | BASE TABLE |             None             |         None         |            None           |           None           |          None          |        YES         |    NO    |      None     |      None     |\n",
       "|  vri_analysis |     main     |     species      | BASE TABLE |             None             |         None         |            None           |           None           |          None          |        YES         |    NO    |      None     |      None     |\n",
       "|  vri_analysis |     main     |       vri        | BASE TABLE |             None             |         None         |            None           |           None           |          None          |        YES         |    NO    |      None     |      None     |\n",
       "|  vri_analysis |     main     | vri_pspl_species | BASE TABLE |             None             |         None         |            None           |           None           |          None          |        YES         |    NO    |      None     |      None     |\n",
       "+---------------+--------------+------------------+------------+------------------------------+----------------------+---------------------------+--------------------------+------------------------+--------------------+----------+---------------+---------------+"
      ]
     },
     "execution_count": 91,
     "metadata": {},
     "output_type": "execute_result"
    }
   ],
   "source": [
    "# Setup sql magic and show current tables\n",
    "%sql conn --alias duckdb\n",
    "%sql select * from information_schema.tables"
   ]
  },
  {
   "cell_type": "code",
   "execution_count": 19,
   "metadata": {},
   "outputs": [],
   "source": [
    "# read AOI as shapely geom\n",
    "with fiona.open(aoi_path) as shapefile:\n",
    "    aoi = shape(shapefile[0]['geometry'])"
   ]
  },
  {
   "cell_type": "markdown",
   "metadata": {},
   "source": [
    "<h1>PSPL data</h1>\n",
    "\n",
    "1. Use the <a href=\"https://catalogue.data.gov.bc.ca/dataset/fadm-timber-supply-area-tsa\">TSA layer</a> or <a href = \"https://governmentofbc.maps.arcgis.com/apps/webappviewer/index.html?id=7bb2cbccb9be4f0aa808f1858b399980\">PSPL Locator App</a> to find out which TSAs your AOI is in.\n",
    "\n",
    "2. Change TSA_number_list (below) to use the numbers (string with leading zero for single-digit numbers) of the TSAs that overlap your AOI. \n",
    "\n",
    "    For example, since my AOI was in Fort St. John and Fort Nelson TSAs, I entered '08' and '40'\n",
    "\n",
    "3. This section will retrieve the PSPL data from your AOI, convert to GDF, then save as a table in your duckdb"
   ]
  },
  {
   "cell_type": "code",
   "execution_count": null,
   "metadata": {},
   "outputs": [
    {
     "name": "stdout",
     "output_type": "stream",
     "text": [
      "TSA 08 downloaded and clipped in 847.7 seconds\n",
      "TSA 40 downloaded and clipped in 1669.9 seconds\n"
     ]
    },
    {
     "name": "stderr",
     "output_type": "stream",
     "text": [
      "C:\\Users\\nross\\AppData\\Local\\Temp\\ipykernel_51816\\3789762987.py:21: FutureWarning: The behavior of DataFrame concatenation with empty or all-NA entries is deprecated. In a future version, this will no longer exclude empty or all-NA columns when determining the result dtypes. To retain the old behavior, exclude the relevant entries before the concat operation.\n",
      "  pspl_gdf = pd.concat(pspl_gdf)\n"
     ]
    },
    {
     "ename": "PermissionError",
     "evalue": "[WinError 5] Access is denied: 'temp'",
     "output_type": "error",
     "traceback": [
      "\u001b[1;31m---------------------------------------------------------------------------\u001b[0m\n",
      "\u001b[1;31mPermissionError\u001b[0m                           Traceback (most recent call last)\n",
      "Cell \u001b[1;32mIn[8], line 22\u001b[0m\n",
      "\u001b[0;32m     19\u001b[0m     \u001b[38;5;28mprint\u001b[39m(\u001b[38;5;124mf\u001b[39m\u001b[38;5;124m\"\u001b[39m\u001b[38;5;124mTSA \u001b[39m\u001b[38;5;132;01m{\u001b[39;00mtsa\u001b[38;5;132;01m}\u001b[39;00m\u001b[38;5;124m downloaded and clipped in \u001b[39m\u001b[38;5;132;01m{\u001b[39;00m\u001b[38;5;28mround\u001b[39m(time\u001b[38;5;241m.\u001b[39mtime()\u001b[38;5;250m \u001b[39m\u001b[38;5;241m-\u001b[39m\u001b[38;5;250m \u001b[39mt_time,\u001b[38;5;241m1\u001b[39m)\u001b[38;5;132;01m}\u001b[39;00m\u001b[38;5;124m seconds\u001b[39m\u001b[38;5;124m\"\u001b[39m)\n",
      "\u001b[0;32m     21\u001b[0m pspl_gdf \u001b[38;5;241m=\u001b[39m pd\u001b[38;5;241m.\u001b[39mconcat(pspl_gdf)\n",
      "\u001b[1;32m---> 22\u001b[0m os\u001b[38;5;241m.\u001b[39mremove(\u001b[38;5;124m'\u001b[39m\u001b[38;5;124mtemp\u001b[39m\u001b[38;5;124m'\u001b[39m)\n",
      "\u001b[0;32m     24\u001b[0m \u001b[38;5;66;03m# save gdf in duckdb\u001b[39;00m\n",
      "\u001b[0;32m     25\u001b[0m gdf_duck \u001b[38;5;241m=\u001b[39m pspl_gdf\n",
      "\n",
      "\u001b[1;31mPermissionError\u001b[0m: [WinError 5] Access is denied: 'temp'"
     ]
    }
   ],
   "source": [
    "# merge and clip PSPL data as gdf\n",
    "TSA_number_list = ['08', '40']\n",
    "baseUrl = \"https://www.for.gov.bc.ca/ftp/HTS/external/!publish/Provincial_Site_Productivity_Layer/Site_Prod_for_DMF\"\n",
    "\n",
    "pspl_gdf = []\n",
    "\n",
    "# Loop over TSA\n",
    "for tsa in TSA_number_list:\n",
    "    t_time = time.time()\n",
    "    pspl_url = os.path.join(baseUrl, f'sprod_{tsa}.gdb.zip')\n",
    "    r = requests.get(pspl_url)\n",
    "    with ZipFile(io.BytesIO(r.content)) as z:\n",
    "        z.extractall(tempdir)\n",
    "    gdf = gpd.read_file(f\"{tempdir}\\\\sprod_{tsa}.gdb\", layer=f'sprod_{tsa}', bbox=aoi)\n",
    "    gdf = gdf.loc[gdf.intersects(aoi)]\n",
    "    pspl_gdf.append(gdf)\n",
    "    print(f\"TSA {tsa} downloaded and clipped in {round(time.time() - t_time,1)} seconds\")\n",
    "    \n",
    "pspl_gdf = pd.concat(pspl_gdf)\n",
    "try:\n",
    "    os.remove(os.path.join(os.getcwd, 'temp'))\n",
    "except:\n",
    "    print(f\"Could not delete temp folder {os.path.join(os.getcwd, 'temp')}\")\n",
    "\n",
    "# save gdf in duckdb\n",
    "# gdf_duck['geometry'] = gdf_duck['geometry'].apply(lambda geom: geom.wkb)\n",
    "conn.sql('DROP TABLE IF EXISTS pspl;')\n",
    "conn.execute(\"CREATE TABLE pspl AS SELECT ST_GeomFromWKB(geometry) as geom, * EXCLUDE (geometry) FROM pspl_gdf;\")"
   ]
  },
  {
   "cell_type": "code",
   "execution_count": 14,
   "metadata": {},
   "outputs": [
    {
     "name": "stderr",
     "output_type": "stream",
     "text": [
      "C:\\Users\\nross\\AppData\\Local\\Temp\\ipykernel_49628\\1928513661.py:21: FutureWarning: Setting an item of incompatible dtype is deprecated and will raise in a future error of pandas. Value 'True' has dtype incompatible with float64, please explicitly cast to a compatible dtype first.\n",
      "  species_df.loc[species_df['species'].isin(pspl_species), 'In PSPL'] = True\n"
     ]
    },
    {
     "data": {
      "text/html": [
       "<div>\n",
       "<style scoped>\n",
       "    .dataframe tbody tr th:only-of-type {\n",
       "        vertical-align: middle;\n",
       "    }\n",
       "\n",
       "    .dataframe tbody tr th {\n",
       "        vertical-align: top;\n",
       "    }\n",
       "\n",
       "    .dataframe thead th {\n",
       "        text-align: right;\n",
       "    }\n",
       "</style>\n",
       "<table border=\"1\" class=\"dataframe\">\n",
       "  <thead>\n",
       "    <tr style=\"text-align: right;\">\n",
       "      <th></th>\n",
       "      <th>species</th>\n",
       "      <th>PSPL_spc</th>\n",
       "      <th>polygon_count</th>\n",
       "      <th>area_ha</th>\n",
       "      <th>In PSPL</th>\n",
       "    </tr>\n",
       "  </thead>\n",
       "  <tbody>\n",
       "    <tr>\n",
       "      <th>0</th>\n",
       "      <td>AC</td>\n",
       "      <td>AT</td>\n",
       "      <td>2278</td>\n",
       "      <td>18382.630417</td>\n",
       "      <td>False</td>\n",
       "    </tr>\n",
       "    <tr>\n",
       "      <th>1</th>\n",
       "      <td>AT</td>\n",
       "      <td>AT</td>\n",
       "      <td>39688</td>\n",
       "      <td>472666.563952</td>\n",
       "      <td>True</td>\n",
       "    </tr>\n",
       "    <tr>\n",
       "      <th>2</th>\n",
       "      <td>BL</td>\n",
       "      <td>BL</td>\n",
       "      <td>498</td>\n",
       "      <td>5438.227869</td>\n",
       "      <td>True</td>\n",
       "    </tr>\n",
       "    <tr>\n",
       "      <th>3</th>\n",
       "      <td>EP</td>\n",
       "      <td>EP</td>\n",
       "      <td>3860</td>\n",
       "      <td>47125.084069</td>\n",
       "      <td>True</td>\n",
       "    </tr>\n",
       "    <tr>\n",
       "      <th>4</th>\n",
       "      <td>LT</td>\n",
       "      <td>LT</td>\n",
       "      <td>1527</td>\n",
       "      <td>22396.959237</td>\n",
       "      <td>True</td>\n",
       "    </tr>\n",
       "    <tr>\n",
       "      <th>5</th>\n",
       "      <td>P</td>\n",
       "      <td>PL</td>\n",
       "      <td>1</td>\n",
       "      <td>28.250029</td>\n",
       "      <td>False</td>\n",
       "    </tr>\n",
       "    <tr>\n",
       "      <th>6</th>\n",
       "      <td>PL</td>\n",
       "      <td>PL</td>\n",
       "      <td>27945</td>\n",
       "      <td>329455.892647</td>\n",
       "      <td>True</td>\n",
       "    </tr>\n",
       "    <tr>\n",
       "      <th>7</th>\n",
       "      <td>S</td>\n",
       "      <td>SX</td>\n",
       "      <td>108</td>\n",
       "      <td>1134.440804</td>\n",
       "      <td>False</td>\n",
       "    </tr>\n",
       "    <tr>\n",
       "      <th>8</th>\n",
       "      <td>SB</td>\n",
       "      <td>SB</td>\n",
       "      <td>67072</td>\n",
       "      <td>837939.834930</td>\n",
       "      <td>True</td>\n",
       "    </tr>\n",
       "    <tr>\n",
       "      <th>9</th>\n",
       "      <td>SE</td>\n",
       "      <td>SE</td>\n",
       "      <td>8</td>\n",
       "      <td>29.164410</td>\n",
       "      <td>True</td>\n",
       "    </tr>\n",
       "    <tr>\n",
       "      <th>10</th>\n",
       "      <td>SS</td>\n",
       "      <td>SS</td>\n",
       "      <td>1</td>\n",
       "      <td>3.632910</td>\n",
       "      <td>True</td>\n",
       "    </tr>\n",
       "    <tr>\n",
       "      <th>11</th>\n",
       "      <td>SW</td>\n",
       "      <td>SW</td>\n",
       "      <td>22467</td>\n",
       "      <td>217387.066136</td>\n",
       "      <td>True</td>\n",
       "    </tr>\n",
       "    <tr>\n",
       "      <th>12</th>\n",
       "      <td>SX</td>\n",
       "      <td>SX</td>\n",
       "      <td>9509</td>\n",
       "      <td>96932.781460</td>\n",
       "      <td>True</td>\n",
       "    </tr>\n",
       "    <tr>\n",
       "      <th>13</th>\n",
       "      <td>WS</td>\n",
       "      <td>WS</td>\n",
       "      <td>1</td>\n",
       "      <td>35.890286</td>\n",
       "      <td>False</td>\n",
       "    </tr>\n",
       "  </tbody>\n",
       "</table>\n",
       "</div>"
      ],
      "text/plain": [
       "   species PSPL_spc  polygon_count        area_ha In PSPL\n",
       "0       AC       AT           2278   18382.630417   False\n",
       "1       AT       AT          39688  472666.563952    True\n",
       "2       BL       BL            498    5438.227869    True\n",
       "3       EP       EP           3860   47125.084069    True\n",
       "4       LT       LT           1527   22396.959237    True\n",
       "5        P       PL              1      28.250029   False\n",
       "6       PL       PL          27945  329455.892647    True\n",
       "7        S       SX            108    1134.440804   False\n",
       "8       SB       SB          67072  837939.834930    True\n",
       "9       SE       SE              8      29.164410    True\n",
       "10      SS       SS              1       3.632910    True\n",
       "11      SW       SW          22467  217387.066136    True\n",
       "12      SX       SX           9509   96932.781460    True\n",
       "13      WS       WS              1      35.890286   False"
      ]
     },
     "execution_count": 14,
     "metadata": {},
     "output_type": "execute_result"
    }
   ],
   "source": [
    "# Get list of species to analyze\n",
    "species_df = conn.sql(\"select distinct SPECIES_CD_1[:2] as species, count(species_cd_1) as polygon_count, sum(polygon_area) as area_ha from vri group by species_cd_1\").to_df()\n",
    "\n",
    "# Optional: to merge species into ones not given in PSPL, assign them in this dictionary and uncomment the following line\n",
    "# This is best done after inspecting the results of this cell\n",
    "species_map = {\n",
    "    \"S\": \"SW\", # for example, if there are polygons called \"S\" (undifferentiated) in the VRI, I will assume these are \"SW\" (white spruce) for the purpose of productivity estimates\n",
    "    \"P\": \"PL\", # Undifferentiated Pine assumed to be lodgepole (P. contorta)\n",
    "    \"AC\": \"AT\" # Cottonwood (Populus sp) assumed to be the same as trembling aspen\n",
    "}\n",
    "\n",
    "species_df['PSPL_spc'] = species_df['species']\n",
    "species_df['PSPL_spc'] = species_df['PSPL_spc'].replace(species_map)\n",
    "species_df = species_df.groupby(by=['species', 'PSPL_spc']).sum()\n",
    "species_df.reset_index(inplace=True)\n",
    "\n",
    "pspl_species = conn.sql(\"select column_name as x from information_schema.columns where table_name = 'pspl' and column_name[-3:] = '_SI';\").to_df()\n",
    "pspl_species = pspl_species['x'].str.slice(0, 2).to_list()\n",
    "\n",
    "\n",
    "species_df.loc[species_df['species'].isin(pspl_species), 'In PSPL'] = True\n",
    "species_df.loc[~species_df['species'].isin(pspl_species), 'In PSPL'] = False\n",
    "\n",
    "species_df"
   ]
  },
  {
   "cell_type": "markdown",
   "metadata": {},
   "source": [
    "Any species with \"False\" for \"In PSPL\" will not be assigned a PSPL value. These stands are dominated by a species not listed in the PSPL layer, likely because it is a generic or non-commercial species. Use the species_map dictionary above to reassign these to another species if desired.\n",
    "\n",
    "See the <a href=\"https://www2.gov.bc.ca/gov/content/industry/forestry/managing-our-forest-resources/tree-seed/tree-seed-centre/seed-testing/codes\">BC Tree Species Codes</a> table to identify.\n",
    "\n",
    "The \"Spruce Substitution\" methods from <a href=\"https://bcgov.github.io/FAIB_PSPL/#run-the-spruce-substitution\">FAIB_PSPL</a>'s methods could be used to remove the SX values which don't have a good site index value.\n",
    "\n",
    "<i>Sx = Se where BEC = ‘ESSF’\n",
    "\n",
    "Ss = Sx where BEC is coastal (CDF, CWH, MH)\n",
    "\n",
    "Sx = Sw where BEC != ‘ESSF’ and BEC is not coastal</i>"
   ]
  },
  {
   "cell_type": "code",
   "execution_count": 61,
   "metadata": {},
   "outputs": [],
   "source": [
    "for spc_no in range(1, 7):\n",
    "  spc_no = str(spc_no)\n",
    "  \n",
    "  # check if column exists\n",
    "  result = conn.execute(f\"\"\"\n",
    "    SELECT COUNT(*) AS column_exists\n",
    "    FROM information_schema.columns\n",
    "    WHERE table_name = 'vri' AND column_name = 'PSPL_SPC{spc_no}';\n",
    "  \"\"\").fetchone()\n",
    "  if result[0] == 0:\n",
    "    conn.execute(f\"ALTER TABLE vri ADD COLUMN PSPL_SPC{spc_no} VARCHAR;\")\n",
    "  else:\n",
    "    conn.execute(f\"ALTER TABLE vri DROP COLUMN PSPL_SPC{spc_no};\")\n",
    "    conn.execute(f\"ALTER TABLE vri ADD COLUMN PSPL_SPC{spc_no} VARCHAR;\")\n",
    "  # Hybrid Spruce Substitution:\n",
    "  conn.sql(f\"\"\"\n",
    "    UPDATE VRI\n",
    "    SET PSPL_SPC{spc_no} = (\n",
    "      IF (SPECIES_CD_{spc_no} IS NULL, NULL, \n",
    "        IF (\n",
    "          SPECIES_CD_{spc_no}[:2] NOT IN ('SX', 'AC', 'P', 'S'),\n",
    "          SPECIES_CD_{spc_no},\n",
    "          IF (SPECIES_CD_{spc_no} == 'AC',\n",
    "              'AT',\n",
    "              IF (\n",
    "                SPECIES_CD_{spc_no} == 'P',\n",
    "                'PL',\n",
    "                IF (\n",
    "                  SPECIES_CD_{spc_no} == 'S',\n",
    "                  'SW',\n",
    "                  IF (\n",
    "                    BEC_ZONE_CODE == 'ESSF',\n",
    "                    'SE',\n",
    "                    IF(\n",
    "                      BEC_ZONE_CODE IN ('CDF', 'CWH', 'MH'),\n",
    "                      'SS',\n",
    "                      'SW'\n",
    "                      )\n",
    "                    )\n",
    "                  )\n",
    "                )\n",
    "              )\n",
    "          )\n",
    "        ) \n",
    "    )\n",
    "    \"\"\")"
   ]
  },
  {
   "cell_type": "code",
   "execution_count": 64,
   "metadata": {},
   "outputs": [
    {
     "data": {
      "text/html": [
       "<span style=\"None\">Running query in &#x27;duckdb&#x27;</span>"
      ],
      "text/plain": [
       "Running query in 'duckdb'"
      ]
     },
     "metadata": {},
     "output_type": "display_data"
    },
    {
     "data": {
      "text/html": [
       "<table>\n",
       "    <thead>\n",
       "        <tr>\n",
       "            <th>PSPL_SPC1</th>\n",
       "            <th>PSPL_SPC2</th>\n",
       "            <th>PSPL_SPC3</th>\n",
       "            <th>PSPL_SPC4</th>\n",
       "            <th>PSPL_SPC5</th>\n",
       "            <th>PSPL_SPC6</th>\n",
       "            <th>SPECIES_CD_1</th>\n",
       "            <th>SPECIES_CD_2</th>\n",
       "            <th>SPECIES_CD_3</th>\n",
       "            <th>SPECIES_CD_4</th>\n",
       "            <th>SPECIES_CD_5</th>\n",
       "            <th>SPECIES_CD_6</th>\n",
       "        </tr>\n",
       "    </thead>\n",
       "    <tbody>\n",
       "        <tr>\n",
       "            <td>SB</td>\n",
       "            <td>PL</td>\n",
       "            <td>AT</td>\n",
       "            <td>None</td>\n",
       "            <td>None</td>\n",
       "            <td>None</td>\n",
       "            <td>SB</td>\n",
       "            <td>PL</td>\n",
       "            <td>AT</td>\n",
       "            <td>None</td>\n",
       "            <td>None</td>\n",
       "            <td>None</td>\n",
       "        </tr>\n",
       "        <tr>\n",
       "            <td>AT</td>\n",
       "            <td>SB</td>\n",
       "            <td>SW</td>\n",
       "            <td>None</td>\n",
       "            <td>None</td>\n",
       "            <td>None</td>\n",
       "            <td>AT</td>\n",
       "            <td>SB</td>\n",
       "            <td>SX</td>\n",
       "            <td>None</td>\n",
       "            <td>None</td>\n",
       "            <td>None</td>\n",
       "        </tr>\n",
       "        <tr>\n",
       "            <td>AT</td>\n",
       "            <td>SW</td>\n",
       "            <td>AT</td>\n",
       "            <td>None</td>\n",
       "            <td>None</td>\n",
       "            <td>None</td>\n",
       "            <td>AT</td>\n",
       "            <td>SX</td>\n",
       "            <td>AC</td>\n",
       "            <td>None</td>\n",
       "            <td>None</td>\n",
       "            <td>None</td>\n",
       "        </tr>\n",
       "        <tr>\n",
       "            <td>PL</td>\n",
       "            <td>SB</td>\n",
       "            <td>None</td>\n",
       "            <td>None</td>\n",
       "            <td>None</td>\n",
       "            <td>None</td>\n",
       "            <td>PL</td>\n",
       "            <td>SB</td>\n",
       "            <td>None</td>\n",
       "            <td>None</td>\n",
       "            <td>None</td>\n",
       "            <td>None</td>\n",
       "        </tr>\n",
       "        <tr>\n",
       "            <td>SB</td>\n",
       "            <td>PL</td>\n",
       "            <td>None</td>\n",
       "            <td>None</td>\n",
       "            <td>None</td>\n",
       "            <td>None</td>\n",
       "            <td>SB</td>\n",
       "            <td>PL</td>\n",
       "            <td>None</td>\n",
       "            <td>None</td>\n",
       "            <td>None</td>\n",
       "            <td>None</td>\n",
       "        </tr>\n",
       "        <tr>\n",
       "            <td>SW</td>\n",
       "            <td>PL</td>\n",
       "            <td>AT</td>\n",
       "            <td>SB</td>\n",
       "            <td>None</td>\n",
       "            <td>None</td>\n",
       "            <td>SW</td>\n",
       "            <td>PL</td>\n",
       "            <td>AT</td>\n",
       "            <td>SB</td>\n",
       "            <td>None</td>\n",
       "            <td>None</td>\n",
       "        </tr>\n",
       "        <tr>\n",
       "            <td>PL</td>\n",
       "            <td>None</td>\n",
       "            <td>None</td>\n",
       "            <td>None</td>\n",
       "            <td>None</td>\n",
       "            <td>None</td>\n",
       "            <td>PL</td>\n",
       "            <td>None</td>\n",
       "            <td>None</td>\n",
       "            <td>None</td>\n",
       "            <td>None</td>\n",
       "            <td>None</td>\n",
       "        </tr>\n",
       "        <tr>\n",
       "            <td>AT</td>\n",
       "            <td>SB</td>\n",
       "            <td>PL</td>\n",
       "            <td>None</td>\n",
       "            <td>None</td>\n",
       "            <td>None</td>\n",
       "            <td>AT</td>\n",
       "            <td>SB</td>\n",
       "            <td>PL</td>\n",
       "            <td>None</td>\n",
       "            <td>None</td>\n",
       "            <td>None</td>\n",
       "        </tr>\n",
       "        <tr>\n",
       "            <td>None</td>\n",
       "            <td>None</td>\n",
       "            <td>None</td>\n",
       "            <td>None</td>\n",
       "            <td>None</td>\n",
       "            <td>None</td>\n",
       "            <td>None</td>\n",
       "            <td>None</td>\n",
       "            <td>None</td>\n",
       "            <td>None</td>\n",
       "            <td>None</td>\n",
       "            <td>None</td>\n",
       "        </tr>\n",
       "        <tr>\n",
       "            <td>None</td>\n",
       "            <td>None</td>\n",
       "            <td>None</td>\n",
       "            <td>None</td>\n",
       "            <td>None</td>\n",
       "            <td>None</td>\n",
       "            <td>None</td>\n",
       "            <td>None</td>\n",
       "            <td>None</td>\n",
       "            <td>None</td>\n",
       "            <td>None</td>\n",
       "            <td>None</td>\n",
       "        </tr>\n",
       "    </tbody>\n",
       "</table>\n",
       "<span style=\"font-style:italic;text-align:center;\">Truncated to <a href=\"https://jupysql.ploomber.io/en/latest/api/configuration.html#displaylimit\">displaylimit</a> of 10.</span>"
      ],
      "text/plain": [
       "+-----------+-----------+-----------+-----------+-----------+-----------+--------------+--------------+--------------+--------------+--------------+--------------+\n",
       "| PSPL_SPC1 | PSPL_SPC2 | PSPL_SPC3 | PSPL_SPC4 | PSPL_SPC5 | PSPL_SPC6 | SPECIES_CD_1 | SPECIES_CD_2 | SPECIES_CD_3 | SPECIES_CD_4 | SPECIES_CD_5 | SPECIES_CD_6 |\n",
       "+-----------+-----------+-----------+-----------+-----------+-----------+--------------+--------------+--------------+--------------+--------------+--------------+\n",
       "|     SB    |     PL    |     AT    |    None   |    None   |    None   |      SB      |      PL      |      AT      |     None     |     None     |     None     |\n",
       "|     AT    |     SB    |     SW    |    None   |    None   |    None   |      AT      |      SB      |      SX      |     None     |     None     |     None     |\n",
       "|     AT    |     SW    |     AT    |    None   |    None   |    None   |      AT      |      SX      |      AC      |     None     |     None     |     None     |\n",
       "|     PL    |     SB    |    None   |    None   |    None   |    None   |      PL      |      SB      |     None     |     None     |     None     |     None     |\n",
       "|     SB    |     PL    |    None   |    None   |    None   |    None   |      SB      |      PL      |     None     |     None     |     None     |     None     |\n",
       "|     SW    |     PL    |     AT    |     SB    |    None   |    None   |      SW      |      PL      |      AT      |      SB      |     None     |     None     |\n",
       "|     PL    |    None   |    None   |    None   |    None   |    None   |      PL      |     None     |     None     |     None     |     None     |     None     |\n",
       "|     AT    |     SB    |     PL    |    None   |    None   |    None   |      AT      |      SB      |      PL      |     None     |     None     |     None     |\n",
       "|    None   |    None   |    None   |    None   |    None   |    None   |     None     |     None     |     None     |     None     |     None     |     None     |\n",
       "|    None   |    None   |    None   |    None   |    None   |    None   |     None     |     None     |     None     |     None     |     None     |     None     |\n",
       "+-----------+-----------+-----------+-----------+-----------+-----------+--------------+--------------+--------------+--------------+--------------+--------------+\n",
       "Truncated to displaylimit of 10."
      ]
     },
     "execution_count": 64,
     "metadata": {},
     "output_type": "execute_result"
    }
   ],
   "source": [
    "%sql select columns(c -> c LIKE 'PSPL_SPC%'), columns(c -> c LIKE 'SPECIES_CD%') from vri"
   ]
  },
  {
   "cell_type": "markdown",
   "metadata": {},
   "source": [
    "<h2>Join VRI polygons with PSPL</h2>\n",
    "\n",
    "This loops over all 6 species and gets PSPL averages for all of them. We ended up only looking at the leading species so this is unnessecary, but I left it in just in case someone else needs it. You could remove the first loop (for spc_no in range(1,6))."
   ]
  },
  {
   "cell_type": "code",
   "execution_count": 67,
   "metadata": {},
   "outputs": [
    {
     "name": "stdout",
     "output_type": "stream",
     "text": [
      "\n",
      "###########################\n",
      "SPECIES 1\n",
      "Calculating AT (1/10)\n"
     ]
    },
    {
     "data": {
      "application/vnd.jupyter.widget-view+json": {
       "model_id": "aed63f99a38a419686addc88397eb13a",
       "version_major": 2,
       "version_minor": 0
      },
      "text/plain": [
       "FloatProgress(value=0.0, layout=Layout(width='auto'), style=ProgressStyle(bar_color='black'))"
      ]
     },
     "metadata": {},
     "output_type": "display_data"
    },
    {
     "name": "stdout",
     "output_type": "stream",
     "text": [
      "AT done in 3.8s.\n",
      "\n",
      "Calculating BL (2/10)\n",
      "BL done in 0.5s.\n",
      "\n",
      "Calculating EP (3/10)\n",
      "EP done in 1.0s.\n",
      "\n",
      "Calculating LT (4/10)\n",
      "LT done in 0.9s.\n",
      "\n",
      "Calculating PL (5/10)\n"
     ]
    },
    {
     "data": {
      "application/vnd.jupyter.widget-view+json": {
       "model_id": "de783a6ce8584071a07368d29b2fcaec",
       "version_major": 2,
       "version_minor": 0
      },
      "text/plain": [
       "FloatProgress(value=0.0, layout=Layout(width='auto'), style=ProgressStyle(bar_color='black'))"
      ]
     },
     "metadata": {},
     "output_type": "display_data"
    },
    {
     "name": "stdout",
     "output_type": "stream",
     "text": [
      "PL done in 2.7s.\n",
      "\n",
      "Calculating SB (6/10)\n"
     ]
    },
    {
     "data": {
      "application/vnd.jupyter.widget-view+json": {
       "model_id": "ece15183dfaf42abacd2d906dfc16a62",
       "version_major": 2,
       "version_minor": 0
      },
      "text/plain": [
       "FloatProgress(value=0.0, layout=Layout(width='auto'), style=ProgressStyle(bar_color='black'))"
      ]
     },
     "metadata": {},
     "output_type": "display_data"
    },
    {
     "name": "stdout",
     "output_type": "stream",
     "text": [
      "SB done in 5.7s.\n",
      "\n",
      "Calculating SE (7/10)\n",
      "SE done in 0.5s.\n",
      "\n",
      "Calculating SS (8/10)\n",
      "SS done in 0.4s.\n",
      "\n",
      "Calculating SW (9/10)\n"
     ]
    },
    {
     "data": {
      "application/vnd.jupyter.widget-view+json": {
       "model_id": "175c78ef371c4f73bd302bb6c1527336",
       "version_major": 2,
       "version_minor": 0
      },
      "text/plain": [
       "FloatProgress(value=0.0, layout=Layout(width='auto'), style=ProgressStyle(bar_color='black'))"
      ]
     },
     "metadata": {},
     "output_type": "display_data"
    },
    {
     "name": "stdout",
     "output_type": "stream",
     "text": [
      "SW done in 3.1s.\n",
      "\n",
      "Calculating SX (10/10)\n",
      "SX done in 0.4s.\n",
      "\n",
      "\n",
      "###########################\n",
      "SPECIES 2\n",
      "Calculating AT (1/10)\n"
     ]
    },
    {
     "data": {
      "application/vnd.jupyter.widget-view+json": {
       "model_id": "4a77c42680644dc1bcd0c798b3fa3975",
       "version_major": 2,
       "version_minor": 0
      },
      "text/plain": [
       "FloatProgress(value=0.0, layout=Layout(width='auto'), style=ProgressStyle(bar_color='black'))"
      ]
     },
     "metadata": {},
     "output_type": "display_data"
    },
    {
     "name": "stdout",
     "output_type": "stream",
     "text": [
      "AT done in 3.7s.\n",
      "\n",
      "Calculating BL (2/10)\n",
      "BL done in 0.8s.\n",
      "\n",
      "Calculating EP (3/10)\n",
      "EP done in 1.3s.\n",
      "\n",
      "Calculating LT (4/10)\n",
      "LT done in 1.7s.\n",
      "\n",
      "Calculating PL (5/10)\n"
     ]
    },
    {
     "data": {
      "application/vnd.jupyter.widget-view+json": {
       "model_id": "7121186954ed46b58ba7144e5f418dc8",
       "version_major": 2,
       "version_minor": 0
      },
      "text/plain": [
       "FloatProgress(value=0.0, layout=Layout(width='auto'), style=ProgressStyle(bar_color='black'))"
      ]
     },
     "metadata": {},
     "output_type": "display_data"
    },
    {
     "name": "stdout",
     "output_type": "stream",
     "text": [
      "PL done in 3.2s.\n",
      "\n",
      "Calculating SB (6/10)\n"
     ]
    },
    {
     "data": {
      "application/vnd.jupyter.widget-view+json": {
       "model_id": "d47eea22fd414a1393bb3b6756c6a3dd",
       "version_major": 2,
       "version_minor": 0
      },
      "text/plain": [
       "FloatProgress(value=0.0, layout=Layout(width='auto'), style=ProgressStyle(bar_color='black'))"
      ]
     },
     "metadata": {},
     "output_type": "display_data"
    },
    {
     "name": "stdout",
     "output_type": "stream",
     "text": [
      "SB done in 2.6s.\n",
      "\n",
      "Calculating SE (7/10)\n",
      "SE done in 0.5s.\n",
      "\n",
      "Calculating SS (8/10)\n",
      "SS done in 0.5s.\n",
      "\n",
      "Calculating SW (9/10)\n"
     ]
    },
    {
     "data": {
      "application/vnd.jupyter.widget-view+json": {
       "model_id": "bf113da9204f421daf06b504c8da6eb6",
       "version_major": 2,
       "version_minor": 0
      },
      "text/plain": [
       "FloatProgress(value=0.0, layout=Layout(width='auto'), style=ProgressStyle(bar_color='black'))"
      ]
     },
     "metadata": {},
     "output_type": "display_data"
    },
    {
     "name": "stdout",
     "output_type": "stream",
     "text": [
      "SW done in 3.3s.\n",
      "\n",
      "Calculating SX (10/10)\n",
      "SX done in 0.4s.\n",
      "\n",
      "\n",
      "###########################\n",
      "SPECIES 3\n",
      "Calculating AT (1/10)\n"
     ]
    },
    {
     "data": {
      "application/vnd.jupyter.widget-view+json": {
       "model_id": "7b578fea07e742e5a70d3c4a1dd42f0a",
       "version_major": 2,
       "version_minor": 0
      },
      "text/plain": [
       "FloatProgress(value=0.0, layout=Layout(width='auto'), style=ProgressStyle(bar_color='black'))"
      ]
     },
     "metadata": {},
     "output_type": "display_data"
    },
    {
     "name": "stdout",
     "output_type": "stream",
     "text": [
      "AT done in 2.8s.\n",
      "\n",
      "Calculating BL (2/10)\n",
      "BL done in 0.7s.\n",
      "\n",
      "Calculating EP (3/10)\n",
      "EP done in 1.4s.\n",
      "\n",
      "Calculating LT (4/10)\n",
      "LT done in 1.1s.\n",
      "\n",
      "Calculating PL (5/10)\n"
     ]
    },
    {
     "data": {
      "application/vnd.jupyter.widget-view+json": {
       "model_id": "7eb9a250c16748078345211569a6c8c5",
       "version_major": 2,
       "version_minor": 0
      },
      "text/plain": [
       "FloatProgress(value=0.0, layout=Layout(width='auto'), style=ProgressStyle(bar_color='black'))"
      ]
     },
     "metadata": {},
     "output_type": "display_data"
    },
    {
     "name": "stdout",
     "output_type": "stream",
     "text": [
      "PL done in 2.1s.\n",
      "\n",
      "Calculating SB (6/10)\n",
      "SB done in 1.7s.\n",
      "\n",
      "Calculating SE (7/10)\n",
      "SE done in 0.5s.\n",
      "\n",
      "Calculating SS (8/10)\n",
      "SS done in 0.4s.\n",
      "\n",
      "Calculating SW (9/10)\n"
     ]
    },
    {
     "data": {
      "application/vnd.jupyter.widget-view+json": {
       "model_id": "3ffcb76ef22345faa5f9ce82f8a7dcc4",
       "version_major": 2,
       "version_minor": 0
      },
      "text/plain": [
       "FloatProgress(value=0.0, layout=Layout(width='auto'), style=ProgressStyle(bar_color='black'))"
      ]
     },
     "metadata": {},
     "output_type": "display_data"
    },
    {
     "name": "stdout",
     "output_type": "stream",
     "text": [
      "SW done in 2.4s.\n",
      "\n",
      "Calculating SX (10/10)\n",
      "SX done in 0.4s.\n",
      "\n",
      "\n",
      "###########################\n",
      "SPECIES 4\n",
      "Calculating AT (1/10)\n",
      "AT done in 1.5s.\n",
      "\n",
      "Calculating BL (2/10)\n",
      "BL done in 0.6s.\n",
      "\n",
      "Calculating EP (3/10)\n",
      "EP done in 1.1s.\n",
      "\n",
      "Calculating LT (4/10)\n",
      "LT done in 0.7s.\n",
      "\n",
      "Calculating PL (5/10)\n",
      "PL done in 1.1s.\n",
      "\n",
      "Calculating SB (6/10)\n",
      "SB done in 1.0s.\n",
      "\n",
      "Calculating SE (7/10)\n",
      "SE done in 0.5s.\n",
      "\n",
      "Calculating SS (8/10)\n",
      "SS done in 0.4s.\n",
      "\n",
      "Calculating SW (9/10)\n",
      "SW done in 1.1s.\n",
      "\n",
      "Calculating SX (10/10)\n",
      "SX done in 0.4s.\n",
      "\n",
      "\n",
      "###########################\n",
      "SPECIES 5\n",
      "Calculating AT (1/10)\n",
      "AT done in 0.8s.\n",
      "\n",
      "Calculating BL (2/10)\n",
      "BL done in 0.6s.\n",
      "\n",
      "Calculating EP (3/10)\n",
      "EP done in 0.8s.\n",
      "\n",
      "Calculating LT (4/10)\n",
      "LT done in 0.7s.\n",
      "\n",
      "Calculating PL (5/10)\n",
      "PL done in 0.7s.\n",
      "\n",
      "Calculating SB (6/10)\n",
      "SB done in 0.7s.\n",
      "\n",
      "Calculating SE (7/10)\n",
      "SE done in 0.5s.\n",
      "\n",
      "Calculating SS (8/10)\n",
      "SS done in 0.4s.\n",
      "\n",
      "Calculating SW (9/10)\n",
      "SW done in 0.7s.\n",
      "\n",
      "Calculating SX (10/10)\n",
      "SX done in 0.5s.\n",
      "\n",
      "\n",
      "###########################\n",
      "SPECIES 6\n",
      "Calculating AT (1/10)\n",
      "AT done in 0.6s.\n",
      "\n",
      "Calculating BL (2/10)\n",
      "BL done in 0.7s.\n",
      "\n",
      "Calculating EP (3/10)\n",
      "EP done in 0.6s.\n",
      "\n",
      "Calculating LT (4/10)\n",
      "LT done in 0.6s.\n",
      "\n",
      "Calculating PL (5/10)\n",
      "PL done in 0.6s.\n",
      "\n",
      "Calculating SB (6/10)\n",
      "SB done in 0.6s.\n",
      "\n",
      "Calculating SE (7/10)\n",
      "SE done in 0.4s.\n",
      "\n",
      "Calculating SS (8/10)\n",
      "SS done in 0.4s.\n",
      "\n",
      "Calculating SW (9/10)\n",
      "SW done in 0.6s.\n",
      "\n",
      "Calculating SX (10/10)\n",
      "SX done in 0.4s.\n",
      "\n"
     ]
    }
   ],
   "source": [
    "for spc_no in range(1, 7):\n",
    "  count=0\n",
    "  spc_no = str(spc_no)\n",
    "  \n",
    "  # check if column exists\n",
    "  result = conn.execute(f\"\"\"\n",
    "    SELECT COUNT(*) AS column_exists\n",
    "    FROM information_schema.columns\n",
    "    WHERE table_name = 'vri' AND column_name = 'PSPL_SI_SPC{spc_no}';\n",
    "  \"\"\").fetchone()\n",
    "  if result[0] == 0:\n",
    "    conn.execute(f\"ALTER TABLE vri ADD COLUMN PSPL_SI_SPC{spc_no} DOUBLE;\")\n",
    "  \n",
    "  print(f\"\\n###########################\\nSPECIES {spc_no}\")\n",
    "    \n",
    "  for species in species_df.loc[species_df['In PSPL'], 'species']:\n",
    "    count+=1\n",
    "    print(f\"Calculating {species} ({count}/{len(species_df.loc[species_df['In PSPL']])})\")\n",
    "    s_time = time.time()\n",
    "    average_pspl = f\"\"\"\n",
    "    -- First, perform a spatial join to sum the values of the points that fall within each polygon\n",
    "    WITH pspl_avg AS (\n",
    "      SELECT\n",
    "        v.OBJECTID,\n",
    "        AVG(p.{species}_SI) AS PSPL_SI_SPC{spc_no}\n",
    "      FROM\n",
    "        vri v, pspl p\n",
    "      WHERE\n",
    "        ST_Contains(v.geom, p.geom) and v.PSPL_SPC{spc_no}[:2] = '{species}'\n",
    "      GROUP BY\n",
    "        v.OBJECTID\n",
    "    )\n",
    "\n",
    "    -- Update the vri table by joining with the aggregated values\n",
    "    UPDATE vri\n",
    "    SET PSPL_SI_SPC{spc_no} = pspl_avg.PSPL_SI_SPC{spc_no}\n",
    "      FROM pspl_avg\n",
    "      WHERE pspl_avg.OBJECTID = vri.OBJECTID\n",
    "        AND  vri.PSPL_SPC{spc_no}[:2] = '{species}'\n",
    "    ;\n",
    "    \"\"\"\n",
    "    x = conn.sql(average_pspl)\n",
    "    # r = conn.sql(f\"select PSPL_SI_SPC{spc_no} from vri where vri.PSPL_SPC[:2] = '{species}'\")\n",
    "    # print(r)\n",
    "    print(f\"{species} done in {round(time.time() - s_time,1)}s.\\n\")"
   ]
  },
  {
   "cell_type": "markdown",
   "metadata": {},
   "source": [
    "Calculate PSPL weighted average, coalescing to avoid null values and adjusting them to reach approx. 100%. This approach is incorrect as Site Index is based on species specific curves and a conversion value needs to be applied when combining them. Just using species 1 is most appropriate. I've still included this code in case it's useful for someone else attempting a similar problem in the future, or the conversion values from FAIB could be added here. Contact Gordon Nienaber or FAIB for more info."
   ]
  },
  {
   "cell_type": "code",
   "execution_count": null,
   "metadata": {},
   "outputs": [],
   "source": [
    "# create columns if not exist\n",
    "result = conn.execute(f\"\"\"\n",
    "    SELECT COUNT(*) AS column_exists\n",
    "    FROM information_schema.columns\n",
    "    WHERE table_name = 'vri' AND column_name = 'PSPL_SI_avg';\n",
    "\"\"\").fetchone()\n",
    "if result[0] == 0:\n",
    "  conn.execute(f\"ALTER TABLE vri ADD COLUMN PSPL_SI_avg DOUBLE;\")\n",
    "\n",
    "result = conn.execute(f\"\"\"\n",
    "    SELECT COUNT(*) AS column_exists\n",
    "    FROM information_schema.columns\n",
    "    WHERE table_name = 'vri' AND column_name = 'PSPL_SI_wavg';\n",
    "\"\"\").fetchone()\n",
    "if result[0] == 0:\n",
    "  conn.execute(f\"ALTER TABLE vri ADD COLUMN PSPL_SI_wavg DOUBLE;\")"
   ]
  },
  {
   "cell_type": "code",
   "execution_count": null,
   "metadata": {},
   "outputs": [
    {
     "data": {
      "text/html": [
       "<span style=\"None\">Running query in &#x27;duckdb&#x27;</span>"
      ],
      "text/plain": [
       "Running query in 'duckdb'"
      ]
     },
     "metadata": {},
     "output_type": "display_data"
    },
    {
     "data": {
      "text/html": [
       "<table>\n",
       "    <thead>\n",
       "        <tr>\n",
       "            <th>Count</th>\n",
       "        </tr>\n",
       "    </thead>\n",
       "    <tbody>\n",
       "        <tr>\n",
       "            <td>188049</td>\n",
       "        </tr>\n",
       "    </tbody>\n",
       "</table>"
      ],
      "text/plain": [
       "+--------+\n",
       "| Count  |\n",
       "+--------+\n",
       "| 188049 |\n",
       "+--------+"
      ]
     },
     "metadata": {},
     "output_type": "display_data"
    }
   ],
   "source": [
    "%%sql\n",
    "# Getting average and weighted average PSPL across species - note that this is an incorrect approach as site index is species-specific and corrections must be made to convert between them\n",
    "# According to Gordon Nienaber from FAIB, using the value for species 1 is most appropriate\n",
    "UPDATE vri\n",
    "\n",
    "SET PSPL_SI_avg =\n",
    "    (SELECT AVG(c)\n",
    "        from (VALUES(PSPL_SI_SPC1), (PSPL_SI_SPC2), (PSPL_SI_SPC3), (PSPL_SI_SPC4), (PSPL_SI_SPC5), (PSPL_SI_SPC6)) T (c));\n",
    "\n",
    "# weighted average\n",
    "UPDATE vri\n",
    "SET PSPL_SI_wavg = \n",
    "    COALESCE(\n",
    "        PSPL_SI_SPC1 * species_pct_1/100 + PSPL_SI_SPC2 * species_pct_2/100 + PSPL_SI_SPC3 * species_pct_3/100 + PSPL_SI_SPC4 * species_pct_4/100 + PSPL_SI_SPC5 * species_pct_5/100 + PSPL_SI_SPC6 * species_pct_6/100,\n",
    "        (PSPL_SI_SPC1 * species_pct_1/100 + PSPL_SI_SPC2 * species_pct_2/100 + PSPL_SI_SPC3 * species_pct_3/100 + PSPL_SI_SPC4 * species_pct_4/100 + PSPL_SI_SPC5 * species_pct_5/100) / (species_pct_1/100 + species_pct_2/100 + species_pct_3/100 + species_pct_4/100 + species_pct_5/100),\n",
    "        (PSPL_SI_SPC1 * species_pct_1/100 + PSPL_SI_SPC2 * species_pct_2/100 + PSPL_SI_SPC3 * species_pct_3/100 + PSPL_SI_SPC4 * species_pct_4/100) / (species_pct_1/100 + species_pct_2/100 + species_pct_3/100 + species_pct_4/100),\n",
    "        (PSPL_SI_SPC1 * species_pct_1/100 + PSPL_SI_SPC2 * species_pct_2/100 + PSPL_SI_SPC3 * species_pct_3/100) / (species_pct_1/100 + species_pct_2/100 + species_pct_3/100),\n",
    "        (PSPL_SI_SPC1 * species_pct_1/100 + PSPL_SI_SPC2 * species_pct_2/100) / (species_pct_1/100 + species_pct_2/100),\n",
    "        PSPL_SI_SPC1\n",
    "    )"
   ]
  },
  {
   "cell_type": "code",
   "execution_count": 82,
   "metadata": {},
   "outputs": [
    {
     "data": {
      "text/html": [
       "<span style=\"None\">Running query in &#x27;duckdb&#x27;</span>"
      ],
      "text/plain": [
       "Running query in 'duckdb'"
      ]
     },
     "metadata": {},
     "output_type": "display_data"
    },
    {
     "data": {
      "text/html": [
       "<table>\n",
       "    <thead>\n",
       "        <tr>\n",
       "            <th>avg(PSPL_SI_SPC1)</th>\n",
       "            <th>avg(SITE_INDEX)</th>\n",
       "            <th>count(PSPL_SI_SPC1)</th>\n",
       "            <th>sum(POLYGON_AREA)</th>\n",
       "        </tr>\n",
       "    </thead>\n",
       "    <tbody>\n",
       "        <tr>\n",
       "            <td>19.98815585118097</td>\n",
       "            <td>15.424597757548886</td>\n",
       "            <td>9082</td>\n",
       "            <td>96932.78146008043</td>\n",
       "        </tr>\n",
       "    </tbody>\n",
       "</table>"
      ],
      "text/plain": [
       "+-------------------+--------------------+---------------------+-------------------+\n",
       "| avg(PSPL_SI_SPC1) |  avg(SITE_INDEX)   | count(PSPL_SI_SPC1) | sum(POLYGON_AREA) |\n",
       "+-------------------+--------------------+---------------------+-------------------+\n",
       "| 19.98815585118097 | 15.424597757548886 |         9082        | 96932.78146008043 |\n",
       "+-------------------+--------------------+---------------------+-------------------+"
      ]
     },
     "execution_count": 82,
     "metadata": {},
     "output_type": "execute_result"
    }
   ],
   "source": [
    "%%sql\n",
    "select  AVG(PSPL_SI_SPC1), AVG(SITE_INDEX), count(PSPL_SI_SPC1), sum(POLYGON_AREA) from vri WHERE SPECIES_CD_1[:2] = 'SX';"
   ]
  },
  {
   "cell_type": "code",
   "execution_count": 80,
   "metadata": {},
   "outputs": [
    {
     "data": {
      "text/html": [
       "<span style=\"None\">Running query in &#x27;duckdb&#x27;</span>"
      ],
      "text/plain": [
       "Running query in 'duckdb'"
      ]
     },
     "metadata": {},
     "output_type": "display_data"
    },
    {
     "data": {
      "text/html": [
       "<table>\n",
       "    <thead>\n",
       "        <tr>\n",
       "            <th> </th>\n",
       "            <th>count</th>\n",
       "            <th>area</th>\n",
       "            <th>Mean</th>\n",
       "            <th>Max</th>\n",
       "            <th>Std Dev</th>\n",
       "        </tr>\n",
       "    </thead>\n",
       "    <tbody>\n",
       "        <tr>\n",
       "            <td>VRI Site Index</td>\n",
       "            <td>174891</td>\n",
       "            <td>2048166.4073131639</td>\n",
       "            <td>11.58913095293461</td>\n",
       "            <td>34.0</td>\n",
       "            <td>5.106190104939095</td>\n",
       "        </tr>\n",
       "        <tr>\n",
       "            <td>PSPL Sp1 Site Index</td>\n",
       "            <td>147824</td>\n",
       "            <td>1780515.1740653405</td>\n",
       "            <td>14.710847237114853</td>\n",
       "            <td>22.41999969482422</td>\n",
       "            <td>4.203220536923251</td>\n",
       "        </tr>\n",
       "    </tbody>\n",
       "</table>"
      ],
      "text/plain": [
       "+---------------------+--------+--------------------+--------------------+-------------------+-------------------+\n",
       "|                     | count  |        area        |        Mean        |        Max        |      Std Dev      |\n",
       "+---------------------+--------+--------------------+--------------------+-------------------+-------------------+\n",
       "|    VRI Site Index   | 174891 | 2048166.4073131639 | 11.58913095293461  |        34.0       | 5.106190104939095 |\n",
       "| PSPL Sp1 Site Index | 147824 | 1780515.1740653405 | 14.710847237114853 | 22.41999969482422 | 4.203220536923251 |\n",
       "+---------------------+--------+--------------------+--------------------+-------------------+-------------------+"
      ]
     },
     "execution_count": 80,
     "metadata": {},
     "output_type": "execute_result"
    }
   ],
   "source": [
    "%%sql\n",
    "select 'VRI Site Index' as \" \",\n",
    "    count(site_index) as \"count\",\n",
    "    sum(POLYGON_AREA) as \"area\",\n",
    "    avg(site_index) as \"Mean\",\n",
    "    max(site_index) as \"Max\",\n",
    "    stddev(site_index) as \"Std Dev\",\n",
    "\n",
    "from vri where SITE_INDEX is not null\n",
    "    \n",
    "union ALL\n",
    "\n",
    "select 'PSPL Sp1 Site Index',\n",
    "    count(PSPL_SI_SPC1) as \"count\",\n",
    "    sum(POLYGON_AREA) as \"area\",\n",
    "    avg(PSPL_SI_SPC1),\n",
    "    max(PSPL_SI_SPC1),\n",
    "    stddev(PSPL_SI_SPC1)\n",
    "    from vri where PSPL_SI_SPC1 is not null"
   ]
  },
  {
   "cell_type": "code",
   "execution_count": 107,
   "metadata": {},
   "outputs": [
    {
     "data": {
      "text/html": [
       "<span style=\"None\">Running query in &#x27;duckdb&#x27;</span>"
      ],
      "text/plain": [
       "Running query in 'duckdb'"
      ]
     },
     "metadata": {},
     "output_type": "display_data"
    },
    {
     "data": {
      "text/html": [
       "<table>\n",
       "    <thead>\n",
       "        <tr>\n",
       "            <th> </th>\n",
       "            <th>count</th>\n",
       "            <th>Mean</th>\n",
       "            <th>Max</th>\n",
       "            <th>Std Dev</th>\n",
       "        </tr>\n",
       "    </thead>\n",
       "    <tbody>\n",
       "        <tr>\n",
       "            <td>VRI Site Index aspen</td>\n",
       "            <td>41958</td>\n",
       "            <td>16.016180507169278</td>\n",
       "            <td>32.900001525878906</td>\n",
       "            <td>3.02129619545249</td>\n",
       "        </tr>\n",
       "        <tr>\n",
       "            <td>PSPL Site Index aspen</td>\n",
       "            <td>40547</td>\n",
       "            <td>17.200459552866366</td>\n",
       "            <td>20.700000762939453</td>\n",
       "            <td>0.9199046964742471</td>\n",
       "        </tr>\n",
       "    </tbody>\n",
       "</table>"
      ],
      "text/plain": [
       "+-----------------------+-------+--------------------+--------------------+--------------------+\n",
       "|                       | count |        Mean        |        Max         |      Std Dev       |\n",
       "+-----------------------+-------+--------------------+--------------------+--------------------+\n",
       "|  VRI Site Index aspen | 41958 | 16.016180507169278 | 32.900001525878906 |  3.02129619545249  |\n",
       "| PSPL Site Index aspen | 40547 | 17.200459552866366 | 20.700000762939453 | 0.9199046964742471 |\n",
       "+-----------------------+-------+--------------------+--------------------+--------------------+"
      ]
     },
     "execution_count": 107,
     "metadata": {},
     "output_type": "execute_result"
    }
   ],
   "source": [
    "%%sql # aspen\n",
    "select 'VRI Site Index aspen' as \" \",\n",
    "    count(site_index) as \"count\",\n",
    "    avg(site_index) as \"Mean\",\n",
    "    max(site_index) as \"Max\",\n",
    "    stddev(site_index) as \"Std Dev\"\n",
    "\n",
    "from vri WHERE SPECIES_CD_1 LIKE 'A%'\n",
    "    \n",
    "union ALL\n",
    "\n",
    "select 'PSPL Site Index aspen',\n",
    "    count(PSPL_SI_SPC1) as \"count\",\n",
    "    avg(PSPL_SI_SPC1),\n",
    "    max(PSPL_SI_SPC1),\n",
    "    stddev(PSPL_SI_SPC1)\n",
    "    from vri WHERE SPECIES_CD_1 LIKE 'A%'"
   ]
  },
  {
   "cell_type": "code",
   "execution_count": 114,
   "metadata": {},
   "outputs": [
    {
     "data": {
      "text/html": [
       "<span style=\"None\">Running query in &#x27;duckdb&#x27;</span>"
      ],
      "text/plain": [
       "Running query in 'duckdb'"
      ]
     },
     "metadata": {},
     "output_type": "display_data"
    },
    {
     "data": {
      "text/html": [
       "<table>\n",
       "    <thead>\n",
       "        <tr>\n",
       "            <th>SPECIES_CD_1</th>\n",
       "            <th>sum(POLYGON_AREA)</th>\n",
       "        </tr>\n",
       "    </thead>\n",
       "    <tbody>\n",
       "        <tr>\n",
       "            <td>BL</td>\n",
       "            <td>512.632988981561</td>\n",
       "        </tr>\n",
       "        <tr>\n",
       "            <td>SB</td>\n",
       "            <td>827037.482520366</td>\n",
       "        </tr>\n",
       "        <tr>\n",
       "            <td>AT</td>\n",
       "            <td>470214.2775353435</td>\n",
       "        </tr>\n",
       "        <tr>\n",
       "            <td>ACB</td>\n",
       "            <td>29.347811238931662</td>\n",
       "        </tr>\n",
       "        <tr>\n",
       "            <td>SX</td>\n",
       "            <td>95418.76268922552</td>\n",
       "        </tr>\n",
       "        <tr>\n",
       "            <td>AC</td>\n",
       "            <td>17757.88589162478</td>\n",
       "        </tr>\n",
       "        <tr>\n",
       "            <td>S</td>\n",
       "            <td>1043.4835319318838</td>\n",
       "        </tr>\n",
       "        <tr>\n",
       "            <td>ACT</td>\n",
       "            <td>237.87816257538518</td>\n",
       "        </tr>\n",
       "        <tr>\n",
       "            <td>SW</td>\n",
       "            <td>168741.1255322658</td>\n",
       "        </tr>\n",
       "        <tr>\n",
       "            <td>PL</td>\n",
       "            <td>172429.39637587202</td>\n",
       "        </tr>\n",
       "        <tr>\n",
       "            <td>PLI</td>\n",
       "            <td>27071.949933990974</td>\n",
       "        </tr>\n",
       "        <tr>\n",
       "            <td>SXW</td>\n",
       "            <td>20.951091927198426</td>\n",
       "        </tr>\n",
       "    </tbody>\n",
       "</table>"
      ],
      "text/plain": [
       "+--------------+--------------------+\n",
       "| SPECIES_CD_1 | sum(POLYGON_AREA)  |\n",
       "+--------------+--------------------+\n",
       "|      BL      |  512.632988981561  |\n",
       "|      SB      |  827037.482520366  |\n",
       "|      AT      | 470214.2775353435  |\n",
       "|     ACB      | 29.347811238931662 |\n",
       "|      SX      | 95418.76268922552  |\n",
       "|      AC      | 17757.88589162478  |\n",
       "|      S       | 1043.4835319318838 |\n",
       "|     ACT      | 237.87816257538518 |\n",
       "|      SW      | 168741.1255322658  |\n",
       "|      PL      | 172429.39637587202 |\n",
       "|     PLI      | 27071.949933990974 |\n",
       "|     SXW      | 20.951091927198426 |\n",
       "+--------------+--------------------+"
      ]
     },
     "execution_count": 114,
     "metadata": {},
     "output_type": "execute_result"
    }
   ],
   "source": [
    "%sql select distinct SPECIES_CD_1, SUM(POLYGON_AREA) from VRI where PSPL_SI_SPC1 IS NOT NULL GROUP BY SPECIES_CD_1"
   ]
  },
  {
   "cell_type": "code",
   "execution_count": 118,
   "metadata": {},
   "outputs": [
    {
     "data": {
      "text/html": [
       "<span style=\"None\">Running query in &#x27;duckdb&#x27;</span>"
      ],
      "text/plain": [
       "Running query in 'duckdb'"
      ]
     },
     "metadata": {},
     "output_type": "display_data"
    },
    {
     "data": {
      "text/html": [
       "<table>\n",
       "    <thead>\n",
       "        <tr>\n",
       "            <th>Count</th>\n",
       "        </tr>\n",
       "    </thead>\n",
       "    <tbody>\n",
       "        <tr>\n",
       "            <td>168959</td>\n",
       "        </tr>\n",
       "    </tbody>\n",
       "</table>"
      ],
      "text/plain": [
       "+--------+\n",
       "| Count  |\n",
       "+--------+\n",
       "| 168959 |\n",
       "+--------+"
      ]
     },
     "execution_count": 118,
     "metadata": {},
     "output_type": "execute_result"
    }
   ],
   "source": [
    "%%sql\n",
    "drop table if exists midaspen;\n",
    "create table midaspen as\n",
    "SELECT PSPL_SI_SPC1,\n",
    "    SITE_INDEX,\n",
    "    SITE_INDEX - PSPL_SI_SPC1 as SI_diff,\n",
    "    SPECIES_CD_1[:2] as SPECIES_CD_1,\n",
    "    COALESCE(SPECIES_CD_2[:2], '.None') as SPECIES_CD_2,\n",
    "    POLYGON_AREA\n",
    "FROM vri\n",
    "WHERE SPECIES_CD_1 LIKE 'A%'\n",
    "AND SITE_INDEX <= 18\n",
    "AND SITE_INDEX > 14\n",
    "AND CAST(PROJ_AGE_CLASS_CD_1 AS INT) > 5 -- i.e. leading species > 100 years old;\n",
    "\n",
    "drop table if exists vri_pspl_species;\n",
    "create table vri_pspl_species as\n",
    "SELECT PSPL_SI_SPC1, SITE_INDEX,\n",
    "    SPECIES_CD_1[:2] as SPECIES_CD_1,\n",
    "    COALESCE(SPECIES_CD_2[:2], '.None') as SPECIES_CD_2,\n",
    "    POLYGON_AREA\n",
    "FROM vri\n",
    "WHERE SPECIES_CD_1[:2] IN ('AT', 'AC', 'SB', 'SW', 'PL', 'SX')"
   ]
  },
  {
   "cell_type": "code",
   "execution_count": 119,
   "metadata": {},
   "outputs": [
    {
     "data": {
      "text/plain": [
       "<sql.ggplot.ggplot.ggplot at 0x2010c025b90>"
      ]
     },
     "execution_count": 119,
     "metadata": {},
     "output_type": "execute_result"
    },
    {
     "data": {
      "image/png": "[encoded data removed]",
      "text/plain": [
       "<Figure size 640x480 with 1 Axes>"
      ]
     },
     "metadata": {},
     "output_type": "display_data"
    }
   ],
   "source": [
    "(ggplot(\"vri_pspl_species\", aes(x=\"PSPL_SI_SPC1\")) + geom_histogram(bins=30, fill=\"SPECIES_CD_1[:2]\", cmap='gist_earth_r'))"
   ]
  },
  {
   "cell_type": "code",
   "execution_count": 95,
   "metadata": {},
   "outputs": [
    {
     "data": {
      "text/plain": [
       "<sql.ggplot.ggplot.ggplot at 0x2014d788610>"
      ]
     },
     "execution_count": 95,
     "metadata": {},
     "output_type": "execute_result"
    },
    {
     "data": {
      "image/png": "[encoded data removed]",
      "text/plain": [
       "<Figure size 640x480 with 1 Axes>"
      ]
     },
     "metadata": {},
     "output_type": "display_data"
    },
    {
     "data": {
      "image/png": "[encoded data removed]",
      "text/plain": [
       "<Figure size 640x480 with 1 Axes>"
      ]
     },
     "metadata": {},
     "output_type": "display_data"
    },
    {
     "data": {
      "image/png": "[encoded data removed]",
      "text/plain": [
       "<Figure size 640x480 with 1 Axes>"
      ]
     },
     "metadata": {},
     "output_type": "display_data"
    }
   ],
   "source": [
    "(ggplot(\"vri\", aes(x=\"PSPL_SI_SPC1\")) + geom_histogram(bins=30, fill=\"SPECIES_CD_1[:2]\", cmap='gist_earth_r'))\n",
    "(ggplot(\"vri\", aes(x=\"SITE_INDEX\")) + geom_histogram(bins=30, fill=\"SPECIES_CD_1[:2]\", cmap='gist_earth_r'))\n",
    "(ggplot(\"vri\", aes(x=\"SITE_INDEX\")) + geom_histogram(bins=30, fill=\"STAND_TYPE_25\", cmap='viridis_r'))"
   ]
  },
  {
   "cell_type": "code",
   "execution_count": 110,
   "metadata": {},
   "outputs": [
    {
     "data": {
      "text/plain": [
       "<sql.ggplot.ggplot.ggplot at 0x2010c5ec910>"
      ]
     },
     "execution_count": 110,
     "metadata": {},
     "output_type": "execute_result"
    },
    {
     "data": {
      "image/png": "[encoded data removed]",
      "text/plain": [
       "<Figure size 640x480 with 1 Axes>"
      ]
     },
     "metadata": {},
     "output_type": "display_data"
    },
    {
     "data": {
      "image/png": "[encoded data removed]",
      "text/plain": [
       "<Figure size 640x480 with 1 Axes>"
      ]
     },
     "metadata": {},
     "output_type": "display_data"
    }
   ],
   "source": [
    "(ggplot(\"midaspen\", aes(x=\"PSPL_SI_SPC1\")) + geom_histogram(binwidth=0.5, fill=\"SPECIES_CD_2\", cmap='gist_earth_r'))\n",
    "(ggplot(\"midaspen\", aes(x=\"SITE_INDEX\")) + geom_histogram(binwidth=1, fill=\"SPECIES_CD_2\", cmap='gist_earth_r'))"
   ]
  },
  {
   "cell_type": "code",
   "execution_count": 105,
   "metadata": {},
   "outputs": [
    {
     "data": {
      "text/plain": [
       "Text(0.5, 0, 'VRI minus PSPL Site Index (m)')"
      ]
     },
     "execution_count": 105,
     "metadata": {},
     "output_type": "execute_result"
    },
    {
     "data": {
      "image/png": "[encoded data removed]",
      "text/plain": [
       "<Figure size 640x480 with 1 Axes>"
      ]
     },
     "metadata": {},
     "output_type": "display_data"
    }
   ],
   "source": [
    "ax = %sqlplot histogram --table midaspen --column SI_diff\n",
    "ax.set_title(\"Difference between VRI and PSPL Site Index values in the \\\"Aspen Bulge\\\"\")\n",
    "ax.set_xlabel(\"VRI minus PSPL Site Index (m)\")"
   ]
  },
  {
   "cell_type": "code",
   "execution_count": 106,
   "metadata": {},
   "outputs": [
    {
     "data": {
      "text/plain": [
       "Text(0, 0.5, 'Site Productivity (m height at 50bha)')"
      ]
     },
     "execution_count": 106,
     "metadata": {},
     "output_type": "execute_result"
    },
    {
     "data": {
      "image/png": "[encoded data removed]",
      "text/plain": [
       "<Figure size 640x480 with 1 Axes>"
      ]
     },
     "metadata": {},
     "output_type": "display_data"
    }
   ],
   "source": [
    "ax = %sqlplot boxplot --table midaspen --column SITE_INDEX PSPL_SI_SPC1\n",
    "ax.set_title(\"Comparison of site index values in the \\\"Aspen Bulge\\\" derived from VRI and PSPL.\")\n",
    "ax.set_xticklabels(['VRI', 'PSPL Leading Species Average'])\n",
    "ax.set_ylabel(\"Site Productivity (m height at 50bha)\")\n"
   ]
  },
  {
   "cell_type": "code",
   "execution_count": 89,
   "metadata": {},
   "outputs": [],
   "source": [
    "conn.close()"
   ]
  }
 ],
 "metadata": {
  "kernelspec": {
   "display_name": "base",
   "language": "python",
   "name": "python3"
  },
  "language_info": {
   "codemirror_mode": {
    "name": "ipython",
    "version": 3
   },
   "file_extension": ".py",
   "mimetype": "text/x-python",
   "name": "python",
   "nbconvert_exporter": "python",
   "pygments_lexer": "ipython3",
   "version": "3.11.7"
  }
 },
 "nbformat": 4,
 "nbformat_minor": 2
}
